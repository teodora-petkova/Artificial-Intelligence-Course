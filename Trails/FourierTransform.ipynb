{
 "cells": [
  {
   "cell_type": "code",
   "execution_count": 1,
   "metadata": {},
   "outputs": [],
   "source": [
    "%matplotlib inline"
   ]
  },
  {
   "cell_type": "code",
   "execution_count": 2,
   "metadata": {},
   "outputs": [],
   "source": [
    "import numpy as np\n",
    "import math\n",
    "import matplotlib.pyplot as plt\n",
    "import matplotlib.animation as animation\n",
    "import IPython.display as display"
   ]
  },
  {
   "cell_type": "markdown",
   "metadata": {},
   "source": [
    "# Fourier Transform\n",
    "\n",
    "Human eyes and brain are amazing in processing a lot of visual data on a daily basis. However, computers are still learning to process digital images more and more precisely. Image analysis, image filtering, image reconstruction, noise reduction in images are important steps in that direction and Fourier Transformation is one of the basic tools used to understand digital data.\n",
    "\n",
    "## Introduction\n",
    "The Fourier Transform converts a function of time to a function of frequency. In case of image processing the input image is the spatial domain and the output of the transformation represents the image in the frequency domain. In the frequency domain, each point represents a particular frequency contained in the spatial domain image. \n",
    "The core idea of Fourier Transform is that everything can be represented by waves - a sequence of periodic functions - sine waves (sinosoids). \n",
    "So Fourier Transform is useful to decompose and analyse a signal or an image based on its frequencies. Furthermore, linear operations performed in one domain (time or frequency) have corresponding operations in the other domain, which are sometimes easier to perform. For example, the convolution in the time/spatial domain corresponds to ordinary multiplication in the frequency domain. After performing the desired operations, the transformation of the result can be made back to the time domain.\n",
    "\n",
    "## Circles, waves and exponentials - all together\n",
    "(or some main concepts to have in mind)\n",
    "\n",
    "* Euler's Formula - $e^{ix}$ produces a circle of radius 1\n",
    "$$e^{ix} = cos(x) + isin(x)$$\n",
    "\n",
    "<img src=\"images\\euler-formula-circle.svg\"  width=\"200\" height=\"200\"/>\n",
    "\n",
    "* the exponential form of the complex number: $re^{ix}$ ;it turns out to be very useful as there are many cases (such as multiplication) where it is easier to use the $re^{ix}$ form rather than the $a+bi$ form.\n",
    "\n",
    "* Euler's identity - $e^{i\\pi} = -1$ or $e^{i\\tau} = 1$\n",
    "\n",
    "* A root of unity - any complex number that yields 1 when raised to some positive integer power n\n",
    "\n",
    "$$ z^{n} = 1 $$\n",
    "$$ z = 1^{\\frac{1}{n}} $$\n",
    "$$ 1 = 1 + i0 = e^{i0} = e^{i2\\pi} = e^{i4\\pi} = ... = e^{ik2\\pi} $$\n",
    "$$ k \\in \\mathbb Z, k = 0,1,2,...,n-1 $$\n",
    "$$ z = e^{ik2\\pi\\frac{1}{n}}$$\n",
    "\n",
    "<img src=\"images\\n_roots_of_unity.png\" width=\"360\" height=\"360\"/>\n",
    "\n",
    "* Sine wave - the excursion around a circle happening in time\n",
    "characteristics of a sine wave $$y(t) = Asin(2\\pi ft+\\phi)$$\n",
    " - $A$ - amplitude - the peak deviation of the function from zero\n",
    " - $f$ - frequency - the number of cycles that occur each second = Hertz\n",
    " - $w = 2\\pi f$ - angular frequency - radians per second\n",
    " - $\\phi$ - phase - shifts (delay or advance)\n",
    "\n",
    "And finally...\n",
    "\n",
    "## Discrete Fourier Transform\n",
    "\n",
    "Fourier Transform translates between two different ways to represent a signal:\n",
    "* the time domain representation (a series of evenly spaced samples over time)\n",
    "* the frequency domain representation (the strength and phase of waves, at different frequencies, that can be used to reconstruct the signal)\n",
    "\n",
    "The inputs and outputs are actually complex numbers, so to feed a real signal (like some music) into the Fourier transform, we just set all the imaginary components to zero. And to check the strength of the frequency information, we just look at the magnitude of the outputs, and ignore the phase. \n",
    "\n",
    "Formal definition used for the code:\n",
    "\n",
    "The discrete Fourier transform transforms a sequence of N complex numbers  ${x_{n}}=x_{0},x_{1},\\ldots,x_{N-1}$ into another sequence of complex numbers, ${X_{k}}=X_{0},X_{1},\\ldots,X_{N-1}$ and vice versa:\n",
    "\n",
    "$$ X_{k}=\\sum_{n=0}^{N-1}x_{n} \\cdot e^{-{\\frac{i2\\pi}{N}kn}} $$\n",
    "$$x_{n}= \\frac{1}{N} \\cdot \\sum_{k=0}^{N-1}X_{k} \\cdot e^{\\frac{i2\\pi}{N}kn}$$\n",
    "\n",
    "Also from Euler's formula:\n",
    "$$ X_{k}=\\sum_{n=0}^{N-1}x_{n} \\cdot \\bigg[\\cos \\bigg({\\frac{2\\pi}{N}}kn\\bigg)-i \\cdot \\sin\\bigg({\\frac{2\\pi}{N}}kn\\bigg)\\bigg] $$\n",
    "\n",
    "But what does it means?"
   ]
  },
  {
   "cell_type": "code",
   "execution_count": null,
   "metadata": {},
   "outputs": [],
   "source": []
  },
  {
   "cell_type": "markdown",
   "metadata": {},
   "source": [
    "## Bibliography\n",
    "1. Grant Sanderson, But what is the Fourier Transform? A visual introduction. https://www.youtube.com/watch?v=spUNpyF58BY\n",
    "2. Kalid Azad, An Interactive Guide To The Fourier Transform - https://betterexplained.com/articles/an-interactive-guide-to-the-fourier-transform/\n",
    "3. Elan Ness-Cohn, Developing An Intuition for Fourier Transforms https://sites.northwestern.edu/elannesscohn/2019/07/30/developing-an-intuition-for-fourier-transforms/  \n",
    "4. Stuart Riffle, Understanding the Fourier transform https://web.archive.org/web/20120418231513/http://www.altdevblogaday.com/2011/05/17/understanding-the-fourier-transform/"
   ]
  }
 ],
 "metadata": {
  "kernelspec": {
   "display_name": "Python 3",
   "language": "python",
   "name": "python3"
  },
  "language_info": {
   "codemirror_mode": {
    "name": "ipython",
    "version": 3
   },
   "file_extension": ".py",
   "mimetype": "text/x-python",
   "name": "python",
   "nbconvert_exporter": "python",
   "pygments_lexer": "ipython3",
   "version": "3.7.3"
  }
 },
 "nbformat": 4,
 "nbformat_minor": 2
}
