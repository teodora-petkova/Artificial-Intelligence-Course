{
 "cells": [
  {
   "cell_type": "markdown",
   "metadata": {},
   "source": [
    "Quiz 1"
   ]
  },
  {
   "cell_type": "code",
   "execution_count": 1,
   "metadata": {},
   "outputs": [],
   "source": [
    "import pandas as pd"
   ]
  },
  {
   "cell_type": "code",
   "execution_count": 2,
   "metadata": {},
   "outputs": [
    {
     "data": {
      "text/plain": [
       "pclass          1\n",
       "survived        1\n",
       "name            1\n",
       "sex             1\n",
       "age           264\n",
       "sibsp           1\n",
       "parch           1\n",
       "ticket          1\n",
       "fare            2\n",
       "cabin        1015\n",
       "embarked        3\n",
       "boat          824\n",
       "body         1189\n",
       "home.dest     565\n",
       "dtype: int64"
      ]
     },
     "execution_count": 2,
     "metadata": {},
     "output_type": "execute_result"
    }
   ],
   "source": [
    "titanic_url = \"https://raw.githubusercontent.com/Geoyi/Cleaning-Titanic-Data/master/titanic_original.csv\"\n",
    "titanic_table = pd.read_csv(titanic_url)\n",
    "titanic_table.head()\n",
    "titanic_table.dtypes\n",
    "titanic_table.isnull().sum(axis=0)"
   ]
  },
  {
   "cell_type": "code",
   "execution_count": 3,
   "metadata": {},
   "outputs": [
    {
     "name": "stdout",
     "output_type": "stream",
     "text": [
      "observations: 150\n",
      "features: 5\n",
      "classes: 3\n",
      "average petal length: 3.83\n"
     ]
    }
   ],
   "source": [
    "iris_url = \"https://archive.ics.uci.edu/ml/machine-learning-databases/iris/iris.data\"\n",
    "iris_data = pd.read_csv(iris_url, header=None)\n",
    "iris_data.columns = [\"sepal_length\", \"sepal_width\", \"petal_length\", \"petal_width\", \"class\"]\n",
    "print(\"observations:\", len(iris_data))\n",
    "print(\"features:\", len(iris_data.columns))\n",
    "print(\"classes:\", len(iris_data[\"class\"].unique()))\n",
    "print(\"average petal length:\", \n",
    "      round(iris_data[(iris_data.sepal_length>=4.5) & (iris_data.sepal_length<=10)].petal_length.mean(), 2))"
   ]
  },
  {
   "cell_type": "code",
   "execution_count": 4,
   "metadata": {},
   "outputs": [
    {
     "name": "stdout",
     "output_type": "stream",
     "text": [
      "(1599, 12)\n",
      "(4898, 12)\n",
      "red wine average quality: 5.64\n",
      "white wine average quality: 5.88\n",
      "red wine correlation between alcohol and quality: 0.48\n",
      "white wine correlation between alcohol and quality: 0.44\n"
     ]
    }
   ],
   "source": [
    "red_wine_url = \"https://archive.ics.uci.edu/ml/machine-learning-databases/wine-quality/winequality-red.csv\"\n",
    "white_wine_url = \"https://archive.ics.uci.edu/ml/machine-learning-databases/wine-quality/winequality-white.csv\"\n",
    "\n",
    "red_wine_data = pd.read_csv(red_wine_url, sep=\";\")\n",
    "white_wine_data = pd.read_csv(white_wine_url, sep=\";\")\n",
    "print(red_wine_data.shape)\n",
    "print(white_wine_data.shape)\n",
    "print(\"red wine average quality:\", round(red_wine_data.quality.mean(), 2))\n",
    "print(\"white wine average quality:\", round(white_wine_data.quality.mean(), 2))\n",
    "print(\"red wine correlation between alcohol and quality:\", round(red_wine_data.corr()[\"alcohol\"][\"quality\"], 2))\n",
    "print(\"white wine correlation between alcohol and quality:\", round(white_wine_data.corr()[\"alcohol\"][\"quality\"], 2))"
   ]
  }
 ],
 "metadata": {
  "kernelspec": {
   "display_name": "Python 3",
   "language": "python",
   "name": "python3"
  },
  "language_info": {
   "codemirror_mode": {
    "name": "ipython",
    "version": 3
   },
   "file_extension": ".py",
   "mimetype": "text/x-python",
   "name": "python",
   "nbconvert_exporter": "python",
   "pygments_lexer": "ipython3",
   "version": "3.7.3"
  }
 },
 "nbformat": 4,
 "nbformat_minor": 2
}
