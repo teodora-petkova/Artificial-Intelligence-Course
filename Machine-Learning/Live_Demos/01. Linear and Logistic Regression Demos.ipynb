{
 "cells": [
  {
   "cell_type": "code",
   "execution_count": 1,
   "metadata": {},
   "outputs": [],
   "source": [
    "%matplotlib inline"
   ]
  },
  {
   "cell_type": "code",
   "execution_count": 91,
   "metadata": {},
   "outputs": [],
   "source": [
    "import numpy as np\n",
    "import pandas as pd\n",
    "import matplotlib.pyplot as plt\n",
    "\n",
    "from sklearn.datasets import load_iris\n",
    "\n",
    "from sklearn.preprocessing import PolynomialFeatures\n",
    "\n",
    "from sklearn.linear_model import LinearRegression, RANSACRegressor, LogisticRegression\n",
    "from sklearn.metrics import mean_squared_error"
   ]
  },
  {
   "cell_type": "markdown",
   "metadata": {},
   "source": [
    "# Linear and Logistic Regression\n",
    "## Live Demos"
   ]
  },
  {
   "cell_type": "code",
   "execution_count": 3,
   "metadata": {},
   "outputs": [],
   "source": [
    "boston_data = pd.read_fwf(\n",
    "    \"https://archive.ics.uci.edu/ml/machine-learning-databases/housing/housing.data\", header = None)"
   ]
  },
  {
   "cell_type": "code",
   "execution_count": 5,
   "metadata": {},
   "outputs": [
    {
     "data": {
      "text/plain": [
       "(506, 14)"
      ]
     },
     "execution_count": 5,
     "metadata": {},
     "output_type": "execute_result"
    }
   ],
   "source": [
    "boston_data.shape"
   ]
  },
  {
   "cell_type": "code",
   "execution_count": 7,
   "metadata": {},
   "outputs": [],
   "source": [
    "boston_data.columns = [\"crime_rate\", \"zoned_land\", \"industry\", \"bounds_river\", \"nox_conc\", \"rooms\", \"age\", \"distance\",  \"highways\", \"tax\", \"pt_ratio\", \"b_estimator\", \"pop_status\", \"price\"]"
   ]
  },
  {
   "cell_type": "code",
   "execution_count": 8,
   "metadata": {},
   "outputs": [
    {
     "data": {
      "text/html": [
       "<div>\n",
       "<style scoped>\n",
       "    .dataframe tbody tr th:only-of-type {\n",
       "        vertical-align: middle;\n",
       "    }\n",
       "\n",
       "    .dataframe tbody tr th {\n",
       "        vertical-align: top;\n",
       "    }\n",
       "\n",
       "    .dataframe thead th {\n",
       "        text-align: right;\n",
       "    }\n",
       "</style>\n",
       "<table border=\"1\" class=\"dataframe\">\n",
       "  <thead>\n",
       "    <tr style=\"text-align: right;\">\n",
       "      <th></th>\n",
       "      <th>crime_rate</th>\n",
       "      <th>zoned_land</th>\n",
       "      <th>industry</th>\n",
       "      <th>bounds_river</th>\n",
       "      <th>nox_conc</th>\n",
       "      <th>rooms</th>\n",
       "      <th>age</th>\n",
       "      <th>distance</th>\n",
       "      <th>highways</th>\n",
       "      <th>tax</th>\n",
       "      <th>pt_ratio</th>\n",
       "      <th>b_estimator</th>\n",
       "      <th>pop_status</th>\n",
       "      <th>price</th>\n",
       "    </tr>\n",
       "  </thead>\n",
       "  <tbody>\n",
       "    <tr>\n",
       "      <th>0</th>\n",
       "      <td>0.00632</td>\n",
       "      <td>18.0</td>\n",
       "      <td>2.31</td>\n",
       "      <td>0</td>\n",
       "      <td>0.538</td>\n",
       "      <td>6.575</td>\n",
       "      <td>65.2</td>\n",
       "      <td>4.0900</td>\n",
       "      <td>1</td>\n",
       "      <td>296.0</td>\n",
       "      <td>15.3</td>\n",
       "      <td>396.90</td>\n",
       "      <td>4.98</td>\n",
       "      <td>24.0</td>\n",
       "    </tr>\n",
       "    <tr>\n",
       "      <th>1</th>\n",
       "      <td>0.02731</td>\n",
       "      <td>0.0</td>\n",
       "      <td>7.07</td>\n",
       "      <td>0</td>\n",
       "      <td>0.469</td>\n",
       "      <td>6.421</td>\n",
       "      <td>78.9</td>\n",
       "      <td>4.9671</td>\n",
       "      <td>2</td>\n",
       "      <td>242.0</td>\n",
       "      <td>17.8</td>\n",
       "      <td>396.90</td>\n",
       "      <td>9.14</td>\n",
       "      <td>21.6</td>\n",
       "    </tr>\n",
       "    <tr>\n",
       "      <th>2</th>\n",
       "      <td>0.02729</td>\n",
       "      <td>0.0</td>\n",
       "      <td>7.07</td>\n",
       "      <td>0</td>\n",
       "      <td>0.469</td>\n",
       "      <td>7.185</td>\n",
       "      <td>61.1</td>\n",
       "      <td>4.9671</td>\n",
       "      <td>2</td>\n",
       "      <td>242.0</td>\n",
       "      <td>17.8</td>\n",
       "      <td>392.83</td>\n",
       "      <td>4.03</td>\n",
       "      <td>34.7</td>\n",
       "    </tr>\n",
       "    <tr>\n",
       "      <th>3</th>\n",
       "      <td>0.03237</td>\n",
       "      <td>0.0</td>\n",
       "      <td>2.18</td>\n",
       "      <td>0</td>\n",
       "      <td>0.458</td>\n",
       "      <td>6.998</td>\n",
       "      <td>45.8</td>\n",
       "      <td>6.0622</td>\n",
       "      <td>3</td>\n",
       "      <td>222.0</td>\n",
       "      <td>18.7</td>\n",
       "      <td>394.63</td>\n",
       "      <td>2.94</td>\n",
       "      <td>33.4</td>\n",
       "    </tr>\n",
       "    <tr>\n",
       "      <th>4</th>\n",
       "      <td>0.06905</td>\n",
       "      <td>0.0</td>\n",
       "      <td>2.18</td>\n",
       "      <td>0</td>\n",
       "      <td>0.458</td>\n",
       "      <td>7.147</td>\n",
       "      <td>54.2</td>\n",
       "      <td>6.0622</td>\n",
       "      <td>3</td>\n",
       "      <td>222.0</td>\n",
       "      <td>18.7</td>\n",
       "      <td>396.90</td>\n",
       "      <td>5.33</td>\n",
       "      <td>36.2</td>\n",
       "    </tr>\n",
       "  </tbody>\n",
       "</table>\n",
       "</div>"
      ],
      "text/plain": [
       "   crime_rate  zoned_land  industry  bounds_river  nox_conc  rooms   age  \\\n",
       "0     0.00632        18.0      2.31             0     0.538  6.575  65.2   \n",
       "1     0.02731         0.0      7.07             0     0.469  6.421  78.9   \n",
       "2     0.02729         0.0      7.07             0     0.469  7.185  61.1   \n",
       "3     0.03237         0.0      2.18             0     0.458  6.998  45.8   \n",
       "4     0.06905         0.0      2.18             0     0.458  7.147  54.2   \n",
       "\n",
       "   distance  highways    tax  pt_ratio  b_estimator  pop_status  price  \n",
       "0    4.0900         1  296.0      15.3       396.90        4.98   24.0  \n",
       "1    4.9671         2  242.0      17.8       396.90        9.14   21.6  \n",
       "2    4.9671         2  242.0      17.8       392.83        4.03   34.7  \n",
       "3    6.0622         3  222.0      18.7       394.63        2.94   33.4  \n",
       "4    6.0622         3  222.0      18.7       396.90        5.33   36.2  "
      ]
     },
     "execution_count": 8,
     "metadata": {},
     "output_type": "execute_result"
    }
   ],
   "source": [
    "boston_data.head()"
   ]
  },
  {
   "cell_type": "code",
   "execution_count": 10,
   "metadata": {},
   "outputs": [
    {
     "data": {
      "text/html": [
       "<div>\n",
       "<style scoped>\n",
       "    .dataframe tbody tr th:only-of-type {\n",
       "        vertical-align: middle;\n",
       "    }\n",
       "\n",
       "    .dataframe tbody tr th {\n",
       "        vertical-align: top;\n",
       "    }\n",
       "\n",
       "    .dataframe thead th {\n",
       "        text-align: right;\n",
       "    }\n",
       "</style>\n",
       "<table border=\"1\" class=\"dataframe\">\n",
       "  <thead>\n",
       "    <tr style=\"text-align: right;\">\n",
       "      <th></th>\n",
       "      <th>count</th>\n",
       "      <th>mean</th>\n",
       "      <th>std</th>\n",
       "      <th>min</th>\n",
       "      <th>25%</th>\n",
       "      <th>50%</th>\n",
       "      <th>75%</th>\n",
       "      <th>max</th>\n",
       "    </tr>\n",
       "  </thead>\n",
       "  <tbody>\n",
       "    <tr>\n",
       "      <th>crime_rate</th>\n",
       "      <td>506.0</td>\n",
       "      <td>1.716290</td>\n",
       "      <td>2.653510</td>\n",
       "      <td>0.00632</td>\n",
       "      <td>0.0819</td>\n",
       "      <td>0.250895</td>\n",
       "      <td>2.326718</td>\n",
       "      <td>9.96654</td>\n",
       "    </tr>\n",
       "    <tr>\n",
       "      <th>zoned_land</th>\n",
       "      <td>506.0</td>\n",
       "      <td>11.363636</td>\n",
       "      <td>23.322453</td>\n",
       "      <td>0.00000</td>\n",
       "      <td>0.0000</td>\n",
       "      <td>0.000000</td>\n",
       "      <td>12.500000</td>\n",
       "      <td>100.00000</td>\n",
       "    </tr>\n",
       "    <tr>\n",
       "      <th>industry</th>\n",
       "      <td>506.0</td>\n",
       "      <td>11.136779</td>\n",
       "      <td>6.860353</td>\n",
       "      <td>0.46000</td>\n",
       "      <td>5.1900</td>\n",
       "      <td>9.690000</td>\n",
       "      <td>18.100000</td>\n",
       "      <td>27.74000</td>\n",
       "    </tr>\n",
       "    <tr>\n",
       "      <th>bounds_river</th>\n",
       "      <td>506.0</td>\n",
       "      <td>0.069170</td>\n",
       "      <td>0.253994</td>\n",
       "      <td>0.00000</td>\n",
       "      <td>0.0000</td>\n",
       "      <td>0.000000</td>\n",
       "      <td>0.000000</td>\n",
       "      <td>1.00000</td>\n",
       "    </tr>\n",
       "    <tr>\n",
       "      <th>nox_conc</th>\n",
       "      <td>506.0</td>\n",
       "      <td>0.554695</td>\n",
       "      <td>0.115878</td>\n",
       "      <td>0.38500</td>\n",
       "      <td>0.4490</td>\n",
       "      <td>0.538000</td>\n",
       "      <td>0.624000</td>\n",
       "      <td>0.87100</td>\n",
       "    </tr>\n",
       "    <tr>\n",
       "      <th>rooms</th>\n",
       "      <td>506.0</td>\n",
       "      <td>6.284634</td>\n",
       "      <td>0.702617</td>\n",
       "      <td>3.56100</td>\n",
       "      <td>5.8855</td>\n",
       "      <td>6.208500</td>\n",
       "      <td>6.623500</td>\n",
       "      <td>8.78000</td>\n",
       "    </tr>\n",
       "    <tr>\n",
       "      <th>age</th>\n",
       "      <td>506.0</td>\n",
       "      <td>68.574901</td>\n",
       "      <td>28.148861</td>\n",
       "      <td>2.90000</td>\n",
       "      <td>45.0250</td>\n",
       "      <td>77.500000</td>\n",
       "      <td>94.075000</td>\n",
       "      <td>100.00000</td>\n",
       "    </tr>\n",
       "    <tr>\n",
       "      <th>distance</th>\n",
       "      <td>506.0</td>\n",
       "      <td>3.696228</td>\n",
       "      <td>1.999689</td>\n",
       "      <td>0.58570</td>\n",
       "      <td>2.0737</td>\n",
       "      <td>3.107300</td>\n",
       "      <td>5.112625</td>\n",
       "      <td>9.22290</td>\n",
       "    </tr>\n",
       "    <tr>\n",
       "      <th>highways</th>\n",
       "      <td>506.0</td>\n",
       "      <td>4.332016</td>\n",
       "      <td>1.417166</td>\n",
       "      <td>1.00000</td>\n",
       "      <td>4.0000</td>\n",
       "      <td>4.000000</td>\n",
       "      <td>5.000000</td>\n",
       "      <td>8.00000</td>\n",
       "    </tr>\n",
       "    <tr>\n",
       "      <th>tax</th>\n",
       "      <td>506.0</td>\n",
       "      <td>408.237154</td>\n",
       "      <td>168.537116</td>\n",
       "      <td>187.00000</td>\n",
       "      <td>279.0000</td>\n",
       "      <td>330.000000</td>\n",
       "      <td>666.000000</td>\n",
       "      <td>711.00000</td>\n",
       "    </tr>\n",
       "    <tr>\n",
       "      <th>pt_ratio</th>\n",
       "      <td>506.0</td>\n",
       "      <td>18.455534</td>\n",
       "      <td>2.164946</td>\n",
       "      <td>12.60000</td>\n",
       "      <td>17.4000</td>\n",
       "      <td>19.050000</td>\n",
       "      <td>20.200000</td>\n",
       "      <td>22.00000</td>\n",
       "    </tr>\n",
       "    <tr>\n",
       "      <th>b_estimator</th>\n",
       "      <td>506.0</td>\n",
       "      <td>356.674032</td>\n",
       "      <td>91.294864</td>\n",
       "      <td>0.32000</td>\n",
       "      <td>375.3775</td>\n",
       "      <td>391.440000</td>\n",
       "      <td>396.225000</td>\n",
       "      <td>396.90000</td>\n",
       "    </tr>\n",
       "    <tr>\n",
       "      <th>pop_status</th>\n",
       "      <td>506.0</td>\n",
       "      <td>12.653063</td>\n",
       "      <td>7.141062</td>\n",
       "      <td>1.73000</td>\n",
       "      <td>6.9500</td>\n",
       "      <td>11.360000</td>\n",
       "      <td>16.955000</td>\n",
       "      <td>37.97000</td>\n",
       "    </tr>\n",
       "    <tr>\n",
       "      <th>price</th>\n",
       "      <td>506.0</td>\n",
       "      <td>22.532806</td>\n",
       "      <td>9.197104</td>\n",
       "      <td>5.00000</td>\n",
       "      <td>17.0250</td>\n",
       "      <td>21.200000</td>\n",
       "      <td>25.000000</td>\n",
       "      <td>50.00000</td>\n",
       "    </tr>\n",
       "  </tbody>\n",
       "</table>\n",
       "</div>"
      ],
      "text/plain": [
       "              count        mean         std        min       25%         50%  \\\n",
       "crime_rate    506.0    1.716290    2.653510    0.00632    0.0819    0.250895   \n",
       "zoned_land    506.0   11.363636   23.322453    0.00000    0.0000    0.000000   \n",
       "industry      506.0   11.136779    6.860353    0.46000    5.1900    9.690000   \n",
       "bounds_river  506.0    0.069170    0.253994    0.00000    0.0000    0.000000   \n",
       "nox_conc      506.0    0.554695    0.115878    0.38500    0.4490    0.538000   \n",
       "rooms         506.0    6.284634    0.702617    3.56100    5.8855    6.208500   \n",
       "age           506.0   68.574901   28.148861    2.90000   45.0250   77.500000   \n",
       "distance      506.0    3.696228    1.999689    0.58570    2.0737    3.107300   \n",
       "highways      506.0    4.332016    1.417166    1.00000    4.0000    4.000000   \n",
       "tax           506.0  408.237154  168.537116  187.00000  279.0000  330.000000   \n",
       "pt_ratio      506.0   18.455534    2.164946   12.60000   17.4000   19.050000   \n",
       "b_estimator   506.0  356.674032   91.294864    0.32000  375.3775  391.440000   \n",
       "pop_status    506.0   12.653063    7.141062    1.73000    6.9500   11.360000   \n",
       "price         506.0   22.532806    9.197104    5.00000   17.0250   21.200000   \n",
       "\n",
       "                     75%        max  \n",
       "crime_rate      2.326718    9.96654  \n",
       "zoned_land     12.500000  100.00000  \n",
       "industry       18.100000   27.74000  \n",
       "bounds_river    0.000000    1.00000  \n",
       "nox_conc        0.624000    0.87100  \n",
       "rooms           6.623500    8.78000  \n",
       "age            94.075000  100.00000  \n",
       "distance        5.112625    9.22290  \n",
       "highways        5.000000    8.00000  \n",
       "tax           666.000000  711.00000  \n",
       "pt_ratio       20.200000   22.00000  \n",
       "b_estimator   396.225000  396.90000  \n",
       "pop_status     16.955000   37.97000  \n",
       "price          25.000000   50.00000  "
      ]
     },
     "execution_count": 10,
     "metadata": {},
     "output_type": "execute_result"
    }
   ],
   "source": [
    "boston_data.describe().T"
   ]
  },
  {
   "cell_type": "code",
   "execution_count": 13,
   "metadata": {},
   "outputs": [],
   "source": [
    "attributes = boston_data.drop(\"price\", axis = 1)\n",
    "target = boston_data.price"
   ]
  },
  {
   "cell_type": "code",
   "execution_count": 41,
   "metadata": {},
   "outputs": [
    {
     "data": {
      "text/html": [
       "<div>\n",
       "<style scoped>\n",
       "    .dataframe tbody tr th:only-of-type {\n",
       "        vertical-align: middle;\n",
       "    }\n",
       "\n",
       "    .dataframe tbody tr th {\n",
       "        vertical-align: top;\n",
       "    }\n",
       "\n",
       "    .dataframe thead th {\n",
       "        text-align: right;\n",
       "    }\n",
       "</style>\n",
       "<table border=\"1\" class=\"dataframe\">\n",
       "  <thead>\n",
       "    <tr style=\"text-align: right;\">\n",
       "      <th></th>\n",
       "      <th>crime_rate</th>\n",
       "      <th>zoned_land</th>\n",
       "      <th>industry</th>\n",
       "      <th>bounds_river</th>\n",
       "      <th>nox_conc</th>\n",
       "      <th>rooms</th>\n",
       "      <th>age</th>\n",
       "      <th>distance</th>\n",
       "      <th>highways</th>\n",
       "      <th>tax</th>\n",
       "      <th>pt_ratio</th>\n",
       "      <th>b_estimator</th>\n",
       "      <th>pop_status</th>\n",
       "      <th>price</th>\n",
       "    </tr>\n",
       "  </thead>\n",
       "  <tbody>\n",
       "    <tr>\n",
       "      <th>crime_rate</th>\n",
       "      <td>1.000000</td>\n",
       "      <td>-0.300774</td>\n",
       "      <td>0.590822</td>\n",
       "      <td>0.013922</td>\n",
       "      <td>0.634679</td>\n",
       "      <td>-0.190197</td>\n",
       "      <td>0.482013</td>\n",
       "      <td>-0.495148</td>\n",
       "      <td>-0.088451</td>\n",
       "      <td>0.793392</td>\n",
       "      <td>0.362615</td>\n",
       "      <td>-0.377013</td>\n",
       "      <td>0.481907</td>\n",
       "      <td>-0.362077</td>\n",
       "    </tr>\n",
       "    <tr>\n",
       "      <th>zoned_land</th>\n",
       "      <td>-0.300774</td>\n",
       "      <td>1.000000</td>\n",
       "      <td>-0.533828</td>\n",
       "      <td>-0.042697</td>\n",
       "      <td>-0.516604</td>\n",
       "      <td>0.311991</td>\n",
       "      <td>-0.569537</td>\n",
       "      <td>0.566660</td>\n",
       "      <td>-0.119290</td>\n",
       "      <td>-0.314563</td>\n",
       "      <td>-0.391679</td>\n",
       "      <td>0.175520</td>\n",
       "      <td>-0.412995</td>\n",
       "      <td>0.360445</td>\n",
       "    </tr>\n",
       "    <tr>\n",
       "      <th>industry</th>\n",
       "      <td>0.590822</td>\n",
       "      <td>-0.533828</td>\n",
       "      <td>1.000000</td>\n",
       "      <td>0.062938</td>\n",
       "      <td>0.763651</td>\n",
       "      <td>-0.391676</td>\n",
       "      <td>0.644779</td>\n",
       "      <td>-0.678498</td>\n",
       "      <td>-0.087615</td>\n",
       "      <td>0.720760</td>\n",
       "      <td>0.383248</td>\n",
       "      <td>-0.356977</td>\n",
       "      <td>0.603800</td>\n",
       "      <td>-0.483725</td>\n",
       "    </tr>\n",
       "    <tr>\n",
       "      <th>bounds_river</th>\n",
       "      <td>0.013922</td>\n",
       "      <td>-0.042697</td>\n",
       "      <td>0.062938</td>\n",
       "      <td>1.000000</td>\n",
       "      <td>0.091203</td>\n",
       "      <td>0.091251</td>\n",
       "      <td>0.086518</td>\n",
       "      <td>-0.090950</td>\n",
       "      <td>0.079105</td>\n",
       "      <td>-0.035587</td>\n",
       "      <td>-0.121515</td>\n",
       "      <td>0.048788</td>\n",
       "      <td>-0.053929</td>\n",
       "      <td>0.175260</td>\n",
       "    </tr>\n",
       "    <tr>\n",
       "      <th>nox_conc</th>\n",
       "      <td>0.634679</td>\n",
       "      <td>-0.516604</td>\n",
       "      <td>0.763651</td>\n",
       "      <td>0.091203</td>\n",
       "      <td>1.000000</td>\n",
       "      <td>-0.302188</td>\n",
       "      <td>0.731470</td>\n",
       "      <td>-0.748872</td>\n",
       "      <td>0.009217</td>\n",
       "      <td>0.668023</td>\n",
       "      <td>0.188933</td>\n",
       "      <td>-0.380051</td>\n",
       "      <td>0.590879</td>\n",
       "      <td>-0.427321</td>\n",
       "    </tr>\n",
       "    <tr>\n",
       "      <th>rooms</th>\n",
       "      <td>-0.190197</td>\n",
       "      <td>0.311991</td>\n",
       "      <td>-0.391676</td>\n",
       "      <td>0.091251</td>\n",
       "      <td>-0.302188</td>\n",
       "      <td>1.000000</td>\n",
       "      <td>-0.240265</td>\n",
       "      <td>0.225052</td>\n",
       "      <td>0.088753</td>\n",
       "      <td>-0.292048</td>\n",
       "      <td>-0.355501</td>\n",
       "      <td>0.128069</td>\n",
       "      <td>-0.613808</td>\n",
       "      <td>0.695360</td>\n",
       "    </tr>\n",
       "    <tr>\n",
       "      <th>age</th>\n",
       "      <td>0.482013</td>\n",
       "      <td>-0.569537</td>\n",
       "      <td>0.644779</td>\n",
       "      <td>0.086518</td>\n",
       "      <td>0.731470</td>\n",
       "      <td>-0.240265</td>\n",
       "      <td>1.000000</td>\n",
       "      <td>-0.713313</td>\n",
       "      <td>0.019658</td>\n",
       "      <td>0.506456</td>\n",
       "      <td>0.261515</td>\n",
       "      <td>-0.273534</td>\n",
       "      <td>0.602339</td>\n",
       "      <td>-0.376955</td>\n",
       "    </tr>\n",
       "    <tr>\n",
       "      <th>distance</th>\n",
       "      <td>-0.495148</td>\n",
       "      <td>0.566660</td>\n",
       "      <td>-0.678498</td>\n",
       "      <td>-0.090950</td>\n",
       "      <td>-0.748872</td>\n",
       "      <td>0.225052</td>\n",
       "      <td>-0.713313</td>\n",
       "      <td>1.000000</td>\n",
       "      <td>0.003030</td>\n",
       "      <td>-0.541369</td>\n",
       "      <td>-0.269140</td>\n",
       "      <td>0.293621</td>\n",
       "      <td>-0.479158</td>\n",
       "      <td>0.264325</td>\n",
       "    </tr>\n",
       "    <tr>\n",
       "      <th>highways</th>\n",
       "      <td>-0.088451</td>\n",
       "      <td>-0.119290</td>\n",
       "      <td>-0.087615</td>\n",
       "      <td>0.079105</td>\n",
       "      <td>0.009217</td>\n",
       "      <td>0.088753</td>\n",
       "      <td>0.019658</td>\n",
       "      <td>0.003030</td>\n",
       "      <td>1.000000</td>\n",
       "      <td>-0.049221</td>\n",
       "      <td>-0.116969</td>\n",
       "      <td>0.040705</td>\n",
       "      <td>-0.069828</td>\n",
       "      <td>0.113519</td>\n",
       "    </tr>\n",
       "    <tr>\n",
       "      <th>tax</th>\n",
       "      <td>0.793392</td>\n",
       "      <td>-0.314563</td>\n",
       "      <td>0.720760</td>\n",
       "      <td>-0.035587</td>\n",
       "      <td>0.668023</td>\n",
       "      <td>-0.292048</td>\n",
       "      <td>0.506456</td>\n",
       "      <td>-0.541369</td>\n",
       "      <td>-0.049221</td>\n",
       "      <td>1.000000</td>\n",
       "      <td>0.460853</td>\n",
       "      <td>-0.441808</td>\n",
       "      <td>0.543993</td>\n",
       "      <td>-0.468536</td>\n",
       "    </tr>\n",
       "    <tr>\n",
       "      <th>pt_ratio</th>\n",
       "      <td>0.362615</td>\n",
       "      <td>-0.391679</td>\n",
       "      <td>0.383248</td>\n",
       "      <td>-0.121515</td>\n",
       "      <td>0.188933</td>\n",
       "      <td>-0.355501</td>\n",
       "      <td>0.261515</td>\n",
       "      <td>-0.269140</td>\n",
       "      <td>-0.116969</td>\n",
       "      <td>0.460853</td>\n",
       "      <td>1.000000</td>\n",
       "      <td>-0.177383</td>\n",
       "      <td>0.374044</td>\n",
       "      <td>-0.507787</td>\n",
       "    </tr>\n",
       "    <tr>\n",
       "      <th>b_estimator</th>\n",
       "      <td>-0.377013</td>\n",
       "      <td>0.175520</td>\n",
       "      <td>-0.356977</td>\n",
       "      <td>0.048788</td>\n",
       "      <td>-0.380051</td>\n",
       "      <td>0.128069</td>\n",
       "      <td>-0.273534</td>\n",
       "      <td>0.293621</td>\n",
       "      <td>0.040705</td>\n",
       "      <td>-0.441808</td>\n",
       "      <td>-0.177383</td>\n",
       "      <td>1.000000</td>\n",
       "      <td>-0.366087</td>\n",
       "      <td>0.333461</td>\n",
       "    </tr>\n",
       "    <tr>\n",
       "      <th>pop_status</th>\n",
       "      <td>0.481907</td>\n",
       "      <td>-0.412995</td>\n",
       "      <td>0.603800</td>\n",
       "      <td>-0.053929</td>\n",
       "      <td>0.590879</td>\n",
       "      <td>-0.613808</td>\n",
       "      <td>0.602339</td>\n",
       "      <td>-0.479158</td>\n",
       "      <td>-0.069828</td>\n",
       "      <td>0.543993</td>\n",
       "      <td>0.374044</td>\n",
       "      <td>-0.366087</td>\n",
       "      <td>1.000000</td>\n",
       "      <td>-0.737663</td>\n",
       "    </tr>\n",
       "    <tr>\n",
       "      <th>price</th>\n",
       "      <td>-0.362077</td>\n",
       "      <td>0.360445</td>\n",
       "      <td>-0.483725</td>\n",
       "      <td>0.175260</td>\n",
       "      <td>-0.427321</td>\n",
       "      <td>0.695360</td>\n",
       "      <td>-0.376955</td>\n",
       "      <td>0.264325</td>\n",
       "      <td>0.113519</td>\n",
       "      <td>-0.468536</td>\n",
       "      <td>-0.507787</td>\n",
       "      <td>0.333461</td>\n",
       "      <td>-0.737663</td>\n",
       "      <td>1.000000</td>\n",
       "    </tr>\n",
       "  </tbody>\n",
       "</table>\n",
       "</div>"
      ],
      "text/plain": [
       "              crime_rate  zoned_land  industry  bounds_river  nox_conc  \\\n",
       "crime_rate      1.000000   -0.300774  0.590822      0.013922  0.634679   \n",
       "zoned_land     -0.300774    1.000000 -0.533828     -0.042697 -0.516604   \n",
       "industry        0.590822   -0.533828  1.000000      0.062938  0.763651   \n",
       "bounds_river    0.013922   -0.042697  0.062938      1.000000  0.091203   \n",
       "nox_conc        0.634679   -0.516604  0.763651      0.091203  1.000000   \n",
       "rooms          -0.190197    0.311991 -0.391676      0.091251 -0.302188   \n",
       "age             0.482013   -0.569537  0.644779      0.086518  0.731470   \n",
       "distance       -0.495148    0.566660 -0.678498     -0.090950 -0.748872   \n",
       "highways       -0.088451   -0.119290 -0.087615      0.079105  0.009217   \n",
       "tax             0.793392   -0.314563  0.720760     -0.035587  0.668023   \n",
       "pt_ratio        0.362615   -0.391679  0.383248     -0.121515  0.188933   \n",
       "b_estimator    -0.377013    0.175520 -0.356977      0.048788 -0.380051   \n",
       "pop_status      0.481907   -0.412995  0.603800     -0.053929  0.590879   \n",
       "price          -0.362077    0.360445 -0.483725      0.175260 -0.427321   \n",
       "\n",
       "                 rooms       age  distance  highways       tax  pt_ratio  \\\n",
       "crime_rate   -0.190197  0.482013 -0.495148 -0.088451  0.793392  0.362615   \n",
       "zoned_land    0.311991 -0.569537  0.566660 -0.119290 -0.314563 -0.391679   \n",
       "industry     -0.391676  0.644779 -0.678498 -0.087615  0.720760  0.383248   \n",
       "bounds_river  0.091251  0.086518 -0.090950  0.079105 -0.035587 -0.121515   \n",
       "nox_conc     -0.302188  0.731470 -0.748872  0.009217  0.668023  0.188933   \n",
       "rooms         1.000000 -0.240265  0.225052  0.088753 -0.292048 -0.355501   \n",
       "age          -0.240265  1.000000 -0.713313  0.019658  0.506456  0.261515   \n",
       "distance      0.225052 -0.713313  1.000000  0.003030 -0.541369 -0.269140   \n",
       "highways      0.088753  0.019658  0.003030  1.000000 -0.049221 -0.116969   \n",
       "tax          -0.292048  0.506456 -0.541369 -0.049221  1.000000  0.460853   \n",
       "pt_ratio     -0.355501  0.261515 -0.269140 -0.116969  0.460853  1.000000   \n",
       "b_estimator   0.128069 -0.273534  0.293621  0.040705 -0.441808 -0.177383   \n",
       "pop_status   -0.613808  0.602339 -0.479158 -0.069828  0.543993  0.374044   \n",
       "price         0.695360 -0.376955  0.264325  0.113519 -0.468536 -0.507787   \n",
       "\n",
       "              b_estimator  pop_status     price  \n",
       "crime_rate      -0.377013    0.481907 -0.362077  \n",
       "zoned_land       0.175520   -0.412995  0.360445  \n",
       "industry        -0.356977    0.603800 -0.483725  \n",
       "bounds_river     0.048788   -0.053929  0.175260  \n",
       "nox_conc        -0.380051    0.590879 -0.427321  \n",
       "rooms            0.128069   -0.613808  0.695360  \n",
       "age             -0.273534    0.602339 -0.376955  \n",
       "distance         0.293621   -0.479158  0.264325  \n",
       "highways         0.040705   -0.069828  0.113519  \n",
       "tax             -0.441808    0.543993 -0.468536  \n",
       "pt_ratio        -0.177383    0.374044 -0.507787  \n",
       "b_estimator      1.000000   -0.366087  0.333461  \n",
       "pop_status      -0.366087    1.000000 -0.737663  \n",
       "price            0.333461   -0.737663  1.000000  "
      ]
     },
     "execution_count": 41,
     "metadata": {},
     "output_type": "execute_result"
    }
   ],
   "source": [
    "boston_data.corr()"
   ]
  },
  {
   "cell_type": "code",
   "execution_count": 12,
   "metadata": {},
   "outputs": [],
   "source": [
    "model = LinearRegression()"
   ]
  },
  {
   "cell_type": "code",
   "execution_count": 16,
   "metadata": {},
   "outputs": [
    {
     "data": {
      "text/plain": [
       "LinearRegression()"
      ]
     },
     "execution_count": 16,
     "metadata": {},
     "output_type": "execute_result"
    }
   ],
   "source": [
    "model.fit(attributes, target)"
   ]
  },
  {
   "cell_type": "code",
   "execution_count": 18,
   "metadata": {},
   "outputs": [
    {
     "data": {
      "text/plain": [
       "array([ 2.09281375e-01,  1.49403979e-02,  1.27164577e-02,  3.00565375e+00,\n",
       "       -1.55234852e+01,  4.29955958e+00,  2.84848139e-03, -1.08366345e+00,\n",
       "        1.93258621e-01, -2.42034372e-03, -9.65535221e-01,  9.43510233e-03,\n",
       "       -5.25242783e-01])"
      ]
     },
     "execution_count": 18,
     "metadata": {},
     "output_type": "execute_result"
    }
   ],
   "source": [
    "model.coef_"
   ]
  },
  {
   "cell_type": "code",
   "execution_count": 19,
   "metadata": {},
   "outputs": [
    {
     "data": {
      "text/plain": [
       "28.3051107500989"
      ]
     },
     "execution_count": 19,
     "metadata": {},
     "output_type": "execute_result"
    }
   ],
   "source": [
    "model.intercept_"
   ]
  },
  {
   "cell_type": "code",
   "execution_count": 38,
   "metadata": {},
   "outputs": [
    {
     "data": {
      "text/plain": [
       "0.7198065414937174"
      ]
     },
     "execution_count": 38,
     "metadata": {},
     "output_type": "execute_result"
    }
   ],
   "source": [
    "model.score(attributes, target)"
   ]
  },
  {
   "cell_type": "code",
   "execution_count": 20,
   "metadata": {},
   "outputs": [],
   "source": [
    "model_no_intercept = LinearRegression(fit_intercept = False)"
   ]
  },
  {
   "cell_type": "code",
   "execution_count": 21,
   "metadata": {},
   "outputs": [
    {
     "data": {
      "text/plain": [
       "LinearRegression(fit_intercept=False)"
      ]
     },
     "execution_count": 21,
     "metadata": {},
     "output_type": "execute_result"
    }
   ],
   "source": [
    "model_no_intercept.fit(attributes, target)"
   ]
  },
  {
   "cell_type": "code",
   "execution_count": 22,
   "metadata": {},
   "outputs": [
    {
     "data": {
      "text/plain": [
       "array([ 2.32266653e-02,  2.77104570e-02,  1.27058681e-02,  3.01506936e+00,\n",
       "       -3.68298191e+00,  5.82571154e+00, -2.57508598e-03, -7.26850898e-01,\n",
       "        3.10921428e-01, -3.14922442e-03, -5.07184355e-01,  1.39593084e-02,\n",
       "       -4.43092704e-01])"
      ]
     },
     "execution_count": 22,
     "metadata": {},
     "output_type": "execute_result"
    }
   ],
   "source": [
    "model_no_intercept.coef_"
   ]
  },
  {
   "cell_type": "code",
   "execution_count": 37,
   "metadata": {},
   "outputs": [
    {
     "data": {
      "text/plain": [
       "0.0"
      ]
     },
     "execution_count": 37,
     "metadata": {},
     "output_type": "execute_result"
    }
   ],
   "source": [
    "model_no_intercept.intercept_"
   ]
  },
  {
   "cell_type": "code",
   "execution_count": 39,
   "metadata": {},
   "outputs": [
    {
     "data": {
      "text/plain": [
       "0.7036175611789843"
      ]
     },
     "execution_count": 39,
     "metadata": {},
     "output_type": "execute_result"
    }
   ],
   "source": [
    "model_no_intercept.score(attributes, target)"
   ]
  },
  {
   "cell_type": "code",
   "execution_count": 44,
   "metadata": {},
   "outputs": [],
   "source": [
    "test_data = boston_data.sample(20)"
   ]
  },
  {
   "cell_type": "code",
   "execution_count": 45,
   "metadata": {},
   "outputs": [],
   "source": [
    "test_attributes = test_data.drop(\"price\", axis = 1)"
   ]
  },
  {
   "cell_type": "code",
   "execution_count": 46,
   "metadata": {},
   "outputs": [
    {
     "data": {
      "text/plain": [
       "array([17.24435394, 13.82098138, 21.8780933 , 14.34989721, 22.8631942 ,\n",
       "        7.37787828, 18.64372574, 19.86454455, 27.2579925 , 15.30652453,\n",
       "       23.68485379, 32.45104239, 26.21550713, 29.87454755, 15.50771871,\n",
       "       12.23085729, 25.12810976, 33.72814848, 22.11565459, 26.76794828])"
      ]
     },
     "execution_count": 46,
     "metadata": {},
     "output_type": "execute_result"
    }
   ],
   "source": [
    "model.predict(test_attributes)"
   ]
  },
  {
   "cell_type": "code",
   "execution_count": 47,
   "metadata": {},
   "outputs": [],
   "source": [
    "test_data[\"predicted_price\"] = model.predict(test_attributes)"
   ]
  },
  {
   "cell_type": "code",
   "execution_count": 48,
   "metadata": {},
   "outputs": [
    {
     "data": {
      "text/html": [
       "<div>\n",
       "<style scoped>\n",
       "    .dataframe tbody tr th:only-of-type {\n",
       "        vertical-align: middle;\n",
       "    }\n",
       "\n",
       "    .dataframe tbody tr th {\n",
       "        vertical-align: top;\n",
       "    }\n",
       "\n",
       "    .dataframe thead th {\n",
       "        text-align: right;\n",
       "    }\n",
       "</style>\n",
       "<table border=\"1\" class=\"dataframe\">\n",
       "  <thead>\n",
       "    <tr style=\"text-align: right;\">\n",
       "      <th></th>\n",
       "      <th>crime_rate</th>\n",
       "      <th>zoned_land</th>\n",
       "      <th>industry</th>\n",
       "      <th>bounds_river</th>\n",
       "      <th>nox_conc</th>\n",
       "      <th>rooms</th>\n",
       "      <th>age</th>\n",
       "      <th>distance</th>\n",
       "      <th>highways</th>\n",
       "      <th>tax</th>\n",
       "      <th>pt_ratio</th>\n",
       "      <th>b_estimator</th>\n",
       "      <th>pop_status</th>\n",
       "      <th>price</th>\n",
       "      <th>predicted_price</th>\n",
       "    </tr>\n",
       "  </thead>\n",
       "  <tbody>\n",
       "    <tr>\n",
       "      <th>401</th>\n",
       "      <td>4.23620</td>\n",
       "      <td>0.0</td>\n",
       "      <td>18.10</td>\n",
       "      <td>0</td>\n",
       "      <td>0.6930</td>\n",
       "      <td>6.343</td>\n",
       "      <td>100.0</td>\n",
       "      <td>1.5741</td>\n",
       "      <td>4</td>\n",
       "      <td>666.0</td>\n",
       "      <td>20.2</td>\n",
       "      <td>396.90</td>\n",
       "      <td>20.32</td>\n",
       "      <td>7.2</td>\n",
       "      <td>17.244354</td>\n",
       "    </tr>\n",
       "    <tr>\n",
       "      <th>143</th>\n",
       "      <td>4.09740</td>\n",
       "      <td>0.0</td>\n",
       "      <td>19.58</td>\n",
       "      <td>0</td>\n",
       "      <td>0.8710</td>\n",
       "      <td>5.468</td>\n",
       "      <td>100.0</td>\n",
       "      <td>1.4118</td>\n",
       "      <td>5</td>\n",
       "      <td>403.0</td>\n",
       "      <td>14.7</td>\n",
       "      <td>396.90</td>\n",
       "      <td>26.42</td>\n",
       "      <td>15.6</td>\n",
       "      <td>13.820981</td>\n",
       "    </tr>\n",
       "    <tr>\n",
       "      <th>71</th>\n",
       "      <td>0.15876</td>\n",
       "      <td>0.0</td>\n",
       "      <td>10.81</td>\n",
       "      <td>0</td>\n",
       "      <td>0.4130</td>\n",
       "      <td>5.961</td>\n",
       "      <td>17.5</td>\n",
       "      <td>5.2873</td>\n",
       "      <td>4</td>\n",
       "      <td>305.0</td>\n",
       "      <td>19.2</td>\n",
       "      <td>376.94</td>\n",
       "      <td>9.88</td>\n",
       "      <td>21.7</td>\n",
       "      <td>21.878093</td>\n",
       "    </tr>\n",
       "    <tr>\n",
       "      <th>138</th>\n",
       "      <td>0.24980</td>\n",
       "      <td>0.0</td>\n",
       "      <td>21.89</td>\n",
       "      <td>0</td>\n",
       "      <td>0.6240</td>\n",
       "      <td>5.857</td>\n",
       "      <td>98.2</td>\n",
       "      <td>1.6686</td>\n",
       "      <td>4</td>\n",
       "      <td>437.0</td>\n",
       "      <td>21.2</td>\n",
       "      <td>392.04</td>\n",
       "      <td>21.32</td>\n",
       "      <td>13.3</td>\n",
       "      <td>14.349897</td>\n",
       "    </tr>\n",
       "    <tr>\n",
       "      <th>44</th>\n",
       "      <td>0.12269</td>\n",
       "      <td>0.0</td>\n",
       "      <td>6.91</td>\n",
       "      <td>0</td>\n",
       "      <td>0.4480</td>\n",
       "      <td>6.069</td>\n",
       "      <td>40.0</td>\n",
       "      <td>5.7209</td>\n",
       "      <td>3</td>\n",
       "      <td>233.0</td>\n",
       "      <td>17.9</td>\n",
       "      <td>389.39</td>\n",
       "      <td>9.55</td>\n",
       "      <td>21.2</td>\n",
       "      <td>22.863194</td>\n",
       "    </tr>\n",
       "    <tr>\n",
       "      <th>417</th>\n",
       "      <td>5.94060</td>\n",
       "      <td>0.0</td>\n",
       "      <td>18.10</td>\n",
       "      <td>0</td>\n",
       "      <td>0.6790</td>\n",
       "      <td>5.304</td>\n",
       "      <td>89.1</td>\n",
       "      <td>1.6475</td>\n",
       "      <td>4</td>\n",
       "      <td>666.0</td>\n",
       "      <td>20.2</td>\n",
       "      <td>127.36</td>\n",
       "      <td>26.64</td>\n",
       "      <td>10.4</td>\n",
       "      <td>7.377878</td>\n",
       "    </tr>\n",
       "    <tr>\n",
       "      <th>451</th>\n",
       "      <td>5.44114</td>\n",
       "      <td>0.0</td>\n",
       "      <td>18.10</td>\n",
       "      <td>0</td>\n",
       "      <td>0.7130</td>\n",
       "      <td>6.655</td>\n",
       "      <td>98.2</td>\n",
       "      <td>2.3552</td>\n",
       "      <td>4</td>\n",
       "      <td>666.0</td>\n",
       "      <td>20.2</td>\n",
       "      <td>355.29</td>\n",
       "      <td>17.73</td>\n",
       "      <td>15.2</td>\n",
       "      <td>18.643726</td>\n",
       "    </tr>\n",
       "    <tr>\n",
       "      <th>331</th>\n",
       "      <td>0.05023</td>\n",
       "      <td>35.0</td>\n",
       "      <td>6.06</td>\n",
       "      <td>0</td>\n",
       "      <td>0.4379</td>\n",
       "      <td>5.706</td>\n",
       "      <td>28.4</td>\n",
       "      <td>6.6407</td>\n",
       "      <td>1</td>\n",
       "      <td>304.0</td>\n",
       "      <td>16.9</td>\n",
       "      <td>394.02</td>\n",
       "      <td>12.43</td>\n",
       "      <td>17.1</td>\n",
       "      <td>19.864545</td>\n",
       "    </tr>\n",
       "    <tr>\n",
       "      <th>240</th>\n",
       "      <td>0.11329</td>\n",
       "      <td>30.0</td>\n",
       "      <td>4.93</td>\n",
       "      <td>0</td>\n",
       "      <td>0.4280</td>\n",
       "      <td>6.897</td>\n",
       "      <td>54.3</td>\n",
       "      <td>6.3361</td>\n",
       "      <td>6</td>\n",
       "      <td>300.0</td>\n",
       "      <td>16.6</td>\n",
       "      <td>391.25</td>\n",
       "      <td>11.38</td>\n",
       "      <td>22.0</td>\n",
       "      <td>27.257992</td>\n",
       "    </tr>\n",
       "    <tr>\n",
       "      <th>467</th>\n",
       "      <td>4.42228</td>\n",
       "      <td>0.0</td>\n",
       "      <td>18.10</td>\n",
       "      <td>0</td>\n",
       "      <td>0.5840</td>\n",
       "      <td>6.003</td>\n",
       "      <td>94.5</td>\n",
       "      <td>2.5403</td>\n",
       "      <td>4</td>\n",
       "      <td>666.0</td>\n",
       "      <td>20.2</td>\n",
       "      <td>331.29</td>\n",
       "      <td>21.32</td>\n",
       "      <td>19.1</td>\n",
       "      <td>15.306525</td>\n",
       "    </tr>\n",
       "    <tr>\n",
       "      <th>254</th>\n",
       "      <td>0.04819</td>\n",
       "      <td>80.0</td>\n",
       "      <td>3.64</td>\n",
       "      <td>0</td>\n",
       "      <td>0.3920</td>\n",
       "      <td>6.108</td>\n",
       "      <td>32.0</td>\n",
       "      <td>9.2203</td>\n",
       "      <td>1</td>\n",
       "      <td>315.0</td>\n",
       "      <td>16.4</td>\n",
       "      <td>392.89</td>\n",
       "      <td>6.57</td>\n",
       "      <td>21.9</td>\n",
       "      <td>23.684854</td>\n",
       "    </tr>\n",
       "    <tr>\n",
       "      <th>303</th>\n",
       "      <td>0.10000</td>\n",
       "      <td>34.0</td>\n",
       "      <td>6.09</td>\n",
       "      <td>0</td>\n",
       "      <td>0.4330</td>\n",
       "      <td>6.982</td>\n",
       "      <td>17.7</td>\n",
       "      <td>5.4917</td>\n",
       "      <td>7</td>\n",
       "      <td>329.0</td>\n",
       "      <td>16.1</td>\n",
       "      <td>390.43</td>\n",
       "      <td>4.86</td>\n",
       "      <td>33.1</td>\n",
       "      <td>32.451042</td>\n",
       "    </tr>\n",
       "    <tr>\n",
       "      <th>252</th>\n",
       "      <td>0.08221</td>\n",
       "      <td>22.0</td>\n",
       "      <td>5.86</td>\n",
       "      <td>0</td>\n",
       "      <td>0.4310</td>\n",
       "      <td>6.957</td>\n",
       "      <td>6.8</td>\n",
       "      <td>8.9067</td>\n",
       "      <td>7</td>\n",
       "      <td>330.0</td>\n",
       "      <td>19.1</td>\n",
       "      <td>386.09</td>\n",
       "      <td>3.53</td>\n",
       "      <td>29.6</td>\n",
       "      <td>26.215507</td>\n",
       "    </tr>\n",
       "    <tr>\n",
       "      <th>183</th>\n",
       "      <td>0.10008</td>\n",
       "      <td>0.0</td>\n",
       "      <td>2.46</td>\n",
       "      <td>0</td>\n",
       "      <td>0.4880</td>\n",
       "      <td>6.563</td>\n",
       "      <td>95.6</td>\n",
       "      <td>2.8470</td>\n",
       "      <td>3</td>\n",
       "      <td>193.0</td>\n",
       "      <td>17.8</td>\n",
       "      <td>396.90</td>\n",
       "      <td>5.68</td>\n",
       "      <td>32.5</td>\n",
       "      <td>29.874548</td>\n",
       "    </tr>\n",
       "    <tr>\n",
       "      <th>397</th>\n",
       "      <td>7.67202</td>\n",
       "      <td>0.0</td>\n",
       "      <td>18.10</td>\n",
       "      <td>0</td>\n",
       "      <td>0.6930</td>\n",
       "      <td>5.747</td>\n",
       "      <td>98.9</td>\n",
       "      <td>1.6334</td>\n",
       "      <td>4</td>\n",
       "      <td>666.0</td>\n",
       "      <td>20.2</td>\n",
       "      <td>393.10</td>\n",
       "      <td>19.92</td>\n",
       "      <td>8.5</td>\n",
       "      <td>15.507719</td>\n",
       "    </tr>\n",
       "    <tr>\n",
       "      <th>435</th>\n",
       "      <td>1.16040</td>\n",
       "      <td>0.0</td>\n",
       "      <td>18.10</td>\n",
       "      <td>0</td>\n",
       "      <td>0.7400</td>\n",
       "      <td>6.629</td>\n",
       "      <td>94.6</td>\n",
       "      <td>2.1247</td>\n",
       "      <td>4</td>\n",
       "      <td>666.0</td>\n",
       "      <td>20.2</td>\n",
       "      <td>109.85</td>\n",
       "      <td>23.27</td>\n",
       "      <td>13.4</td>\n",
       "      <td>12.230857</td>\n",
       "    </tr>\n",
       "    <tr>\n",
       "      <th>1</th>\n",
       "      <td>0.02731</td>\n",
       "      <td>0.0</td>\n",
       "      <td>7.07</td>\n",
       "      <td>0</td>\n",
       "      <td>0.4690</td>\n",
       "      <td>6.421</td>\n",
       "      <td>78.9</td>\n",
       "      <td>4.9671</td>\n",
       "      <td>2</td>\n",
       "      <td>242.0</td>\n",
       "      <td>17.8</td>\n",
       "      <td>396.90</td>\n",
       "      <td>9.14</td>\n",
       "      <td>21.6</td>\n",
       "      <td>25.128110</td>\n",
       "    </tr>\n",
       "    <tr>\n",
       "      <th>160</th>\n",
       "      <td>1.27346</td>\n",
       "      <td>0.0</td>\n",
       "      <td>19.58</td>\n",
       "      <td>1</td>\n",
       "      <td>0.6050</td>\n",
       "      <td>6.250</td>\n",
       "      <td>92.6</td>\n",
       "      <td>1.7984</td>\n",
       "      <td>5</td>\n",
       "      <td>403.0</td>\n",
       "      <td>14.7</td>\n",
       "      <td>338.92</td>\n",
       "      <td>5.50</td>\n",
       "      <td>27.0</td>\n",
       "      <td>33.728148</td>\n",
       "    </tr>\n",
       "    <tr>\n",
       "      <th>172</th>\n",
       "      <td>0.13914</td>\n",
       "      <td>0.0</td>\n",
       "      <td>4.05</td>\n",
       "      <td>0</td>\n",
       "      <td>0.5100</td>\n",
       "      <td>5.572</td>\n",
       "      <td>88.5</td>\n",
       "      <td>2.5961</td>\n",
       "      <td>5</td>\n",
       "      <td>296.0</td>\n",
       "      <td>16.6</td>\n",
       "      <td>396.90</td>\n",
       "      <td>14.69</td>\n",
       "      <td>23.1</td>\n",
       "      <td>22.115655</td>\n",
       "    </tr>\n",
       "    <tr>\n",
       "      <th>375</th>\n",
       "      <td>9.60910</td>\n",
       "      <td>0.0</td>\n",
       "      <td>18.10</td>\n",
       "      <td>0</td>\n",
       "      <td>0.6710</td>\n",
       "      <td>7.313</td>\n",
       "      <td>97.9</td>\n",
       "      <td>1.3163</td>\n",
       "      <td>4</td>\n",
       "      <td>666.0</td>\n",
       "      <td>20.2</td>\n",
       "      <td>396.90</td>\n",
       "      <td>13.44</td>\n",
       "      <td>15.0</td>\n",
       "      <td>26.767948</td>\n",
       "    </tr>\n",
       "  </tbody>\n",
       "</table>\n",
       "</div>"
      ],
      "text/plain": [
       "     crime_rate  zoned_land  industry  bounds_river  nox_conc  rooms    age  \\\n",
       "401     4.23620         0.0     18.10             0    0.6930  6.343  100.0   \n",
       "143     4.09740         0.0     19.58             0    0.8710  5.468  100.0   \n",
       "71      0.15876         0.0     10.81             0    0.4130  5.961   17.5   \n",
       "138     0.24980         0.0     21.89             0    0.6240  5.857   98.2   \n",
       "44      0.12269         0.0      6.91             0    0.4480  6.069   40.0   \n",
       "417     5.94060         0.0     18.10             0    0.6790  5.304   89.1   \n",
       "451     5.44114         0.0     18.10             0    0.7130  6.655   98.2   \n",
       "331     0.05023        35.0      6.06             0    0.4379  5.706   28.4   \n",
       "240     0.11329        30.0      4.93             0    0.4280  6.897   54.3   \n",
       "467     4.42228         0.0     18.10             0    0.5840  6.003   94.5   \n",
       "254     0.04819        80.0      3.64             0    0.3920  6.108   32.0   \n",
       "303     0.10000        34.0      6.09             0    0.4330  6.982   17.7   \n",
       "252     0.08221        22.0      5.86             0    0.4310  6.957    6.8   \n",
       "183     0.10008         0.0      2.46             0    0.4880  6.563   95.6   \n",
       "397     7.67202         0.0     18.10             0    0.6930  5.747   98.9   \n",
       "435     1.16040         0.0     18.10             0    0.7400  6.629   94.6   \n",
       "1       0.02731         0.0      7.07             0    0.4690  6.421   78.9   \n",
       "160     1.27346         0.0     19.58             1    0.6050  6.250   92.6   \n",
       "172     0.13914         0.0      4.05             0    0.5100  5.572   88.5   \n",
       "375     9.60910         0.0     18.10             0    0.6710  7.313   97.9   \n",
       "\n",
       "     distance  highways    tax  pt_ratio  b_estimator  pop_status  price  \\\n",
       "401    1.5741         4  666.0      20.2       396.90       20.32    7.2   \n",
       "143    1.4118         5  403.0      14.7       396.90       26.42   15.6   \n",
       "71     5.2873         4  305.0      19.2       376.94        9.88   21.7   \n",
       "138    1.6686         4  437.0      21.2       392.04       21.32   13.3   \n",
       "44     5.7209         3  233.0      17.9       389.39        9.55   21.2   \n",
       "417    1.6475         4  666.0      20.2       127.36       26.64   10.4   \n",
       "451    2.3552         4  666.0      20.2       355.29       17.73   15.2   \n",
       "331    6.6407         1  304.0      16.9       394.02       12.43   17.1   \n",
       "240    6.3361         6  300.0      16.6       391.25       11.38   22.0   \n",
       "467    2.5403         4  666.0      20.2       331.29       21.32   19.1   \n",
       "254    9.2203         1  315.0      16.4       392.89        6.57   21.9   \n",
       "303    5.4917         7  329.0      16.1       390.43        4.86   33.1   \n",
       "252    8.9067         7  330.0      19.1       386.09        3.53   29.6   \n",
       "183    2.8470         3  193.0      17.8       396.90        5.68   32.5   \n",
       "397    1.6334         4  666.0      20.2       393.10       19.92    8.5   \n",
       "435    2.1247         4  666.0      20.2       109.85       23.27   13.4   \n",
       "1      4.9671         2  242.0      17.8       396.90        9.14   21.6   \n",
       "160    1.7984         5  403.0      14.7       338.92        5.50   27.0   \n",
       "172    2.5961         5  296.0      16.6       396.90       14.69   23.1   \n",
       "375    1.3163         4  666.0      20.2       396.90       13.44   15.0   \n",
       "\n",
       "     predicted_price  \n",
       "401        17.244354  \n",
       "143        13.820981  \n",
       "71         21.878093  \n",
       "138        14.349897  \n",
       "44         22.863194  \n",
       "417         7.377878  \n",
       "451        18.643726  \n",
       "331        19.864545  \n",
       "240        27.257992  \n",
       "467        15.306525  \n",
       "254        23.684854  \n",
       "303        32.451042  \n",
       "252        26.215507  \n",
       "183        29.874548  \n",
       "397        15.507719  \n",
       "435        12.230857  \n",
       "1          25.128110  \n",
       "160        33.728148  \n",
       "172        22.115655  \n",
       "375        26.767948  "
      ]
     },
     "execution_count": 48,
     "metadata": {},
     "output_type": "execute_result"
    }
   ],
   "source": [
    "test_data"
   ]
  },
  {
   "cell_type": "code",
   "execution_count": 51,
   "metadata": {},
   "outputs": [
    {
     "data": {
      "text/plain": [
       "4.7340523069099225"
      ]
     },
     "execution_count": 51,
     "metadata": {},
     "output_type": "execute_result"
    }
   ],
   "source": [
    "np.sqrt(mean_squared_error(test_data.price, test_data.predicted_price))"
   ]
  },
  {
   "cell_type": "code",
   "execution_count": 53,
   "metadata": {},
   "outputs": [],
   "source": [
    "ransac = RANSACRegressor(LinearRegression(), min_samples = 50, max_trials = 100, residual_threshold = 5.0)"
   ]
  },
  {
   "cell_type": "code",
   "execution_count": 54,
   "metadata": {},
   "outputs": [
    {
     "data": {
      "text/plain": [
       "RANSACRegressor(base_estimator=LinearRegression(), min_samples=50,\n",
       "                residual_threshold=5.0)"
      ]
     },
     "execution_count": 54,
     "metadata": {},
     "output_type": "execute_result"
    }
   ],
   "source": [
    "ransac.fit(attributes, target)"
   ]
  },
  {
   "cell_type": "code",
   "execution_count": 56,
   "metadata": {},
   "outputs": [
    {
     "data": {
      "text/plain": [
       "array([ 1.50407374e-01,  1.88087854e-03,  2.65900823e-02,  2.43587093e+00,\n",
       "       -3.94919631e+00,  8.47888409e+00, -7.57725673e-02, -7.39598250e-01,\n",
       "        4.07017460e-01, -7.92047201e-03, -7.51302037e-01,  1.64676357e-02,\n",
       "       -6.72559341e-04])"
      ]
     },
     "execution_count": 56,
     "metadata": {},
     "output_type": "execute_result"
    }
   ],
   "source": [
    "ransac.estimator_.coef_"
   ]
  },
  {
   "cell_type": "code",
   "execution_count": 55,
   "metadata": {},
   "outputs": [
    {
     "data": {
      "text/plain": [
       "0.630944968424425"
      ]
     },
     "execution_count": 55,
     "metadata": {},
     "output_type": "execute_result"
    }
   ],
   "source": [
    "ransac.score(attributes, target)"
   ]
  },
  {
   "cell_type": "code",
   "execution_count": 65,
   "metadata": {},
   "outputs": [],
   "source": [
    "inlier_attributes = attributes[ransac.inlier_mask_]\n",
    "inlier_target = target[ransac.inlier_mask_]"
   ]
  },
  {
   "cell_type": "code",
   "execution_count": 66,
   "metadata": {},
   "outputs": [
    {
     "data": {
      "text/plain": [
       "0.9127380468655052"
      ]
     },
     "execution_count": 66,
     "metadata": {},
     "output_type": "execute_result"
    }
   ],
   "source": [
    "ransac.score(inlier_attributes, inlier_target)"
   ]
  },
  {
   "cell_type": "code",
   "execution_count": 67,
   "metadata": {},
   "outputs": [],
   "source": [
    "outlier_attributes = attributes[~ransac.inlier_mask_]\n",
    "outlier_target = target[~ransac.inlier_mask_]"
   ]
  },
  {
   "cell_type": "code",
   "execution_count": 68,
   "metadata": {},
   "outputs": [
    {
     "data": {
      "text/plain": [
       "0.25150195554093113"
      ]
     },
     "execution_count": 68,
     "metadata": {},
     "output_type": "execute_result"
    }
   ],
   "source": [
    "ransac.score(outlier_attributes, outlier_target)"
   ]
  },
  {
   "cell_type": "code",
   "execution_count": 73,
   "metadata": {},
   "outputs": [],
   "source": [
    "polynomial_transformer = PolynomialFeatures()"
   ]
  },
  {
   "cell_type": "code",
   "execution_count": 74,
   "metadata": {},
   "outputs": [
    {
     "data": {
      "text/plain": [
       "PolynomialFeatures()"
      ]
     },
     "execution_count": 74,
     "metadata": {},
     "output_type": "execute_result"
    }
   ],
   "source": [
    "polynomial_transformer.fit(attributes)"
   ]
  },
  {
   "cell_type": "code",
   "execution_count": 77,
   "metadata": {},
   "outputs": [],
   "source": [
    "second_degree_attributes = polynomial_transformer.transform(attributes)"
   ]
  },
  {
   "cell_type": "code",
   "execution_count": 78,
   "metadata": {},
   "outputs": [
    {
     "data": {
      "text/plain": [
       "(506, 105)"
      ]
     },
     "execution_count": 78,
     "metadata": {},
     "output_type": "execute_result"
    }
   ],
   "source": [
    "second_degree_attributes.shape"
   ]
  },
  {
   "cell_type": "code",
   "execution_count": 82,
   "metadata": {},
   "outputs": [],
   "source": [
    "second_degree_model = LinearRegression()"
   ]
  },
  {
   "cell_type": "code",
   "execution_count": 84,
   "metadata": {},
   "outputs": [
    {
     "data": {
      "text/plain": [
       "LinearRegression()"
      ]
     },
     "execution_count": 84,
     "metadata": {},
     "output_type": "execute_result"
    }
   ],
   "source": [
    "second_degree_model.fit(second_degree_attributes, target)"
   ]
  },
  {
   "cell_type": "code",
   "execution_count": 85,
   "metadata": {},
   "outputs": [
    {
     "data": {
      "text/plain": [
       "0.8863751191596395"
      ]
     },
     "execution_count": 85,
     "metadata": {},
     "output_type": "execute_result"
    }
   ],
   "source": [
    "second_degree_model.score(second_degree_attributes, target)"
   ]
  },
  {
   "cell_type": "code",
   "execution_count": 100,
   "metadata": {},
   "outputs": [],
   "source": [
    "iris = load_iris()"
   ]
  },
  {
   "cell_type": "code",
   "execution_count": 101,
   "metadata": {},
   "outputs": [],
   "source": [
    "iris_model = LogisticRegression(C = 1e9)"
   ]
  },
  {
   "cell_type": "code",
   "execution_count": 102,
   "metadata": {},
   "outputs": [
    {
     "data": {
      "text/plain": [
       "LogisticRegression(C=1000000000.0)"
      ]
     },
     "execution_count": 102,
     "metadata": {},
     "output_type": "execute_result"
    }
   ],
   "source": [
    "iris_model.fit(iris.data, iris.target)"
   ]
  },
  {
   "cell_type": "code",
   "execution_count": 103,
   "metadata": {},
   "outputs": [
    {
     "data": {
      "text/plain": [
       "0.9866666666666667"
      ]
     },
     "execution_count": 103,
     "metadata": {},
     "output_type": "execute_result"
    }
   ],
   "source": [
    "iris_model.score(iris.data, iris.target)"
   ]
  },
  {
   "cell_type": "code",
   "execution_count": 114,
   "metadata": {},
   "outputs": [],
   "source": [
    "iris_poly = PolynomialFeatures(degree = 4).fit_transform(iris.data)"
   ]
  },
  {
   "cell_type": "code",
   "execution_count": 118,
   "metadata": {},
   "outputs": [
    {
     "data": {
      "text/plain": [
       "(150, 70)"
      ]
     },
     "execution_count": 118,
     "metadata": {},
     "output_type": "execute_result"
    }
   ],
   "source": [
    "iris_poly.shape"
   ]
  },
  {
   "cell_type": "code",
   "execution_count": 128,
   "metadata": {},
   "outputs": [],
   "source": [
    "iris_model_poly = LogisticRegression()"
   ]
  },
  {
   "cell_type": "code",
   "execution_count": 129,
   "metadata": {},
   "outputs": [
    {
     "name": "stderr",
     "output_type": "stream",
     "text": [
      "C:\\Users\\Yordan\\Anaconda3\\envs\\tf2\\lib\\site-packages\\sklearn\\linear_model\\_logistic.py:764: ConvergenceWarning: lbfgs failed to converge (status=1):\n",
      "STOP: TOTAL NO. of ITERATIONS REACHED LIMIT.\n",
      "\n",
      "Increase the number of iterations (max_iter) or scale the data as shown in:\n",
      "    https://scikit-learn.org/stable/modules/preprocessing.html\n",
      "Please also refer to the documentation for alternative solver options:\n",
      "    https://scikit-learn.org/stable/modules/linear_model.html#logistic-regression\n",
      "  extra_warning_msg=_LOGISTIC_SOLVER_CONVERGENCE_MSG)\n"
     ]
    },
    {
     "data": {
      "text/plain": [
       "LogisticRegression()"
      ]
     },
     "execution_count": 129,
     "metadata": {},
     "output_type": "execute_result"
    }
   ],
   "source": [
    "iris_model_poly.fit(iris_poly.data, iris.target)"
   ]
  },
  {
   "cell_type": "code",
   "execution_count": 130,
   "metadata": {},
   "outputs": [
    {
     "data": {
      "text/plain": [
       "0.9866666666666667"
      ]
     },
     "execution_count": 130,
     "metadata": {},
     "output_type": "execute_result"
    }
   ],
   "source": [
    "iris_model_poly.score(iris_poly, iris.target)"
   ]
  },
  {
   "cell_type": "code",
   "execution_count": 131,
   "metadata": {},
   "outputs": [],
   "source": [
    "iris_testing_data = iris.data[:10]"
   ]
  },
  {
   "cell_type": "code",
   "execution_count": 132,
   "metadata": {},
   "outputs": [
    {
     "data": {
      "text/plain": [
       "array([0, 0, 0, 0, 0, 0, 0, 0, 0, 0])"
      ]
     },
     "execution_count": 132,
     "metadata": {},
     "output_type": "execute_result"
    }
   ],
   "source": [
    "iris_model.predict(iris_testing_data)"
   ]
  },
  {
   "cell_type": "code",
   "execution_count": 133,
   "metadata": {},
   "outputs": [
    {
     "data": {
      "text/plain": [
       "array([0, 0, 0, 0, 0, 0, 0, 0, 0, 0])"
      ]
     },
     "execution_count": 133,
     "metadata": {},
     "output_type": "execute_result"
    }
   ],
   "source": [
    "iris.target[:10]"
   ]
  },
  {
   "cell_type": "code",
   "execution_count": 134,
   "metadata": {},
   "outputs": [
    {
     "data": {
      "text/plain": [
       "array([[1.00000000e+00, 2.09849036e-31, 3.24053949e-58],\n",
       "       [1.00000000e+00, 1.23433275e-24, 8.81061025e-50],\n",
       "       [1.00000000e+00, 6.42931984e-28, 7.69223274e-54],\n",
       "       [1.00000000e+00, 8.92914057e-23, 1.75765541e-47],\n",
       "       [1.00000000e+00, 3.66133871e-32, 3.70905975e-59],\n",
       "       [1.00000000e+00, 4.56465397e-31, 1.52474271e-56],\n",
       "       [1.00000000e+00, 1.43611160e-27, 9.23659792e-53],\n",
       "       [1.00000000e+00, 4.98676074e-28, 4.93460098e-54],\n",
       "       [1.00000000e+00, 2.52600110e-21, 1.20632239e-45],\n",
       "       [1.00000000e+00, 1.41306659e-24, 2.13277214e-50]])"
      ]
     },
     "execution_count": 134,
     "metadata": {},
     "output_type": "execute_result"
    }
   ],
   "source": [
    "iris_model.predict_proba(iris_testing_data)"
   ]
  },
  {
   "cell_type": "code",
   "execution_count": 135,
   "metadata": {},
   "outputs": [
    {
     "data": {
      "text/plain": [
       "array([[  7.35271466,  20.39778454, -30.26348739, -14.14337754],\n",
       "       [ -2.44376492,  -6.85843959,  10.41704506,  -2.07138612],\n",
       "       [ -4.90894974, -13.53934495,  19.84644233,  16.21476366]])"
      ]
     },
     "execution_count": 135,
     "metadata": {},
     "output_type": "execute_result"
    }
   ],
   "source": [
    "iris_model.coef_"
   ]
  },
  {
   "cell_type": "code",
   "execution_count": 136,
   "metadata": {},
   "outputs": [
    {
     "data": {
      "text/plain": [
       "array([0, 0, 0, 0, 0, 0, 0, 0, 0, 0, 0, 0, 0, 0, 0, 0, 0, 0, 0, 0, 0, 0,\n",
       "       0, 0, 0, 0, 0, 0, 0, 0, 0, 0, 0, 0, 0, 0, 0, 0, 0, 0, 0, 0, 0, 0,\n",
       "       0, 0, 0, 0, 0, 0, 1, 1, 1, 1, 1, 1, 1, 1, 1, 1, 1, 1, 1, 1, 1, 1,\n",
       "       1, 1, 1, 1, 1, 1, 1, 1, 1, 1, 1, 1, 1, 1, 1, 1, 1, 1, 1, 1, 1, 1,\n",
       "       1, 1, 1, 1, 1, 1, 1, 1, 1, 1, 1, 1, 2, 2, 2, 2, 2, 2, 2, 2, 2, 2,\n",
       "       2, 2, 2, 2, 2, 2, 2, 2, 2, 2, 2, 2, 2, 2, 2, 2, 2, 2, 2, 2, 2, 2,\n",
       "       2, 2, 2, 2, 2, 2, 2, 2, 2, 2, 2, 2, 2, 2, 2, 2, 2, 2])"
      ]
     },
     "execution_count": 136,
     "metadata": {},
     "output_type": "execute_result"
    }
   ],
   "source": [
    "iris.target"
   ]
  },
  {
   "cell_type": "code",
   "execution_count": null,
   "metadata": {},
   "outputs": [],
   "source": [
    "\"Iris-setosa\" -> LabelEncoder"
   ]
  }
 ],
 "metadata": {
  "kernelspec": {
   "display_name": "Python 3",
   "language": "python",
   "name": "python3"
  },
  "language_info": {
   "codemirror_mode": {
    "name": "ipython",
    "version": 3
   },
   "file_extension": ".py",
   "mimetype": "text/x-python",
   "name": "python",
   "nbconvert_exporter": "python",
   "pygments_lexer": "ipython3",
   "version": "3.7.9"
  }
 },
 "nbformat": 4,
 "nbformat_minor": 4
}
