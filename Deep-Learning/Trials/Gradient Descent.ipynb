{
 "cells": [
  {
   "cell_type": "code",
   "execution_count": 1,
   "metadata": {},
   "outputs": [],
   "source": [
    "%matplotlib inline"
   ]
  },
  {
   "cell_type": "code",
   "execution_count": 2,
   "metadata": {},
   "outputs": [],
   "source": [
    "import numpy as np\n",
    "import pandas as pd\n",
    "import matplotlib.pyplot as plt\n",
    "import functools"
   ]
  },
  {
   "cell_type": "code",
   "execution_count": 3,
   "metadata": {},
   "outputs": [],
   "source": [
    "np.random.seed(42) "
   ]
  },
  {
   "cell_type": "markdown",
   "metadata": {},
   "source": [
    "# Gradient Descent Notes"
   ]
  },
  {
   "cell_type": "markdown",
   "metadata": {},
   "source": [
    "## Gradient Descent"
   ]
  },
  {
   "cell_type": "markdown",
   "metadata": {},
   "source": [
    "Gradient descent is an optimization technique that can find the minimum of an objective function. "
   ]
  },
  {
   "cell_type": "code",
   "execution_count": 6,
   "metadata": {},
   "outputs": [],
   "source": [
    "x = np.linspace(-5, 5, 20)\n",
    "y = 2 * x + 3\n",
    "y_noise = np.random.normal(loc = 0, scale = 2.5, size = len(x))\n",
    "y += y_noise"
   ]
  },
  {
   "cell_type": "code",
   "execution_count": 7,
   "metadata": {},
   "outputs": [
    {
     "data": {
      "image/png": "[encoded data removed]",
      "text/plain": [
       "<Figure size 432x288 with 1 Axes>"
      ]
     },
     "metadata": {
      "needs_background": "light"
     },
     "output_type": "display_data"
    }
   ],
   "source": [
    "plt.scatter(x, y)\n",
    "plt.xlabel(\"x\")\n",
    "plt.ylabel(\"y\")\n",
    "plt.show()"
   ]
  },
  {
   "cell_type": "markdown",
   "metadata": {},
   "source": [
    "### Gradient descent with Logistic Regression - basic line\n",
    "\n",
    "We want to find a line that will describe the connection between our two variables - x and y. We make an assumption that a linear modeling function will be a good enough model to describe them.\n",
    "\n",
    "Equation of a line: $y = ax + b$\n",
    "* a - the slope $a = \\frac{y_2 - y_1}{x_2 - x_1} = \\frac{change in y}{change in x}$\n",
    "* b - y intercept\n",
    "\n",
    "m - the number of the training examples\n",
    "n = 2 - the number of the features - a, b => two weights/thetas"
   ]
  },
  {
   "cell_type": "code",
   "execution_count": 8,
   "metadata": {},
   "outputs": [],
   "source": [
    "def linear_regression_gradient_descent(x, y, a_guess, b_guess, learning_rate, max_iterations):\n",
    "    def perform_single_step(x, y, a, b, learning_rate):\n",
    "        m = len(x)\n",
    "        dJ_da = - 2/m * np.sum(x * (y - a * x - b))\n",
    "        dJ_db = - 2/m * np.sum(y - a * x - b)\n",
    "        \n",
    "        a_new = a - learning_rate * dJ_da\n",
    "        b_new = b - learning_rate * dJ_db\n",
    "                               \n",
    "        return(a_new, b_new)\n",
    "    \n",
    "    for step in range(max_iterations):\n",
    "        a_guess, b_guess = perform_single_step(x, y,\n",
    "                                               a_guess, b_guess,\n",
    "                                               learning_rate)\n",
    "    return (b_guess, a_guess)"
   ]
  },
  {
   "cell_type": "code",
   "execution_count": 9,
   "metadata": {},
   "outputs": [],
   "source": [
    "learning_rate = 0.01\n",
    "number_iterations = 1000"
   ]
  },
  {
   "cell_type": "code",
   "execution_count": 10,
   "metadata": {},
   "outputs": [
    {
     "name": "stdout",
     "output_type": "stream",
     "text": [
      "m and b: (2.5717536257265983, 1.527067402482388)\n"
     ]
    }
   ],
   "source": [
    "line_parameters = linear_regression_gradient_descent(x, y, -10, 20, learning_rate, number_iterations)\n",
    "print(\"m and b:\", line_parameters)"
   ]
  },
  {
   "cell_type": "markdown",
   "metadata": {},
   "source": [
    "### Gradient descent - general case in more dimensions\n",
    "\n",
    "<b>Parameters:</b>\n",
    "\n",
    "* Input - x -> a matrix m x n (m training examples with n features)\n",
    "* Output - y -> m vector\n",
    "* Weights - thetas -> n\n",
    "\n",
    "<b>Functions:</b>\n",
    "* Hypothesis function:\n",
    "$$ h_{\\theta}(x) = \\theta_{0} + \\theta_{1}x_{1} + \\theta_{2}x_{2} $$\n",
    "$$ h(x) = \\sum_{i=0}^{n} x_{i}\\theta_{i}  = \\theta^T x $$\n",
    "(as $x_{0} = 1$ - the intercept term)\n",
    "\n",
    "* Cost \n",
    "\n",
    "The mean squared error (MSE) of an estimator measures the average of the squares of the errors—that is, the average squared difference between the estimated values and the actual value. \n",
    "\n",
    "$$ J(\\theta) = 1/m \\sum_{i=1}^{m} (h(\\theta)^{(i)} - y^{(i)})^2 $$\n",
    "\n",
    "* Gradient \n",
    "$$ \\frac{\\partial J(\\theta)}{\\partial \\theta_j} = 2/m\\sum_{i=1}^{m}(h(\\theta^{(i)} - y^{(i)}).x_j^{(i)} $$\n",
    "\n",
    "* Update weights with gradients\n",
    "$$ \\theta_j: = \\theta_j -\\alpha . (2/m .\\sum_{i=1}^{m}(h(\\theta^{(i)} - y^{(i)}).x_{j}^{(i)}) $$\n"
   ]
  },
  {
   "cell_type": "code",
   "execution_count": 11,
   "metadata": {},
   "outputs": [],
   "source": [
    "def gradient_descent(X, y,\n",
    "                     initial_weights,\n",
    "                     cost_function,\n",
    "                     gradient_cost_function,\n",
    "                     max_iterations,\n",
    "                     threshold,\n",
    "                     learning_rate=0.05):\n",
    "    \n",
    "    w = initial_weights\n",
    "    cost_function_history = cost_function(X, y, w)\n",
    "    delta_w = np.zeros(w.shape)\n",
    "    i = 0\n",
    "    diff = 1.0e10\n",
    "    \n",
    "    while i < max_iterations and diff > threshold:\n",
    "        delta_w = -learning_rate * gradient_cost_function(X, y, w)\n",
    "        w = w + delta_w\n",
    "        \n",
    "        cost_function_history = np.vstack((cost_function_history, \n",
    "                                           cost_function(X, y, w)))\n",
    "        \n",
    "        i+=1\n",
    "        diff = np.absolute(cost_function_history[-1] - cost_function_history[-2])\n",
    "    \n",
    "    return w, cost_function_history"
   ]
  },
  {
   "cell_type": "code",
   "execution_count": 12,
   "metadata": {},
   "outputs": [],
   "source": [
    "x = np.array([[xi] for xi in x])\n",
    "x = np.hstack((np.ones((len(x),1)),x))"
   ]
  },
  {
   "cell_type": "code",
   "execution_count": 13,
   "metadata": {},
   "outputs": [
    {
     "data": {
      "text/plain": [
       "(20, 2)"
      ]
     },
     "execution_count": 13,
     "metadata": {},
     "output_type": "execute_result"
    }
   ],
   "source": [
    "x.shape"
   ]
  },
  {
   "cell_type": "code",
   "execution_count": 14,
   "metadata": {},
   "outputs": [
    {
     "name": "stdout",
     "output_type": "stream",
     "text": [
      "Weights (theta1, theta2): [2.57169172 1.5270674 ]\n",
      "Minimum cost function: 3.4122494175518003\n"
     ]
    }
   ],
   "source": [
    "def gradient_mse(x, y, w):\n",
    "    m = len(x)\n",
    "    predicted = x.dot(w)\n",
    "    grad = (2/m) * (predicted-y).dot(x)\n",
    "    return grad\n",
    "\n",
    "def mse(x, y, w):\n",
    "    m = len(x)\n",
    "    predicted = x.dot(w)\n",
    "    mse = (1/m) * (predicted-y).T.dot(predicted-y)\n",
    "    return mse  \n",
    "\n",
    "w_init = np.array([-10, 20])\n",
    "\n",
    "weights, cost_function_history = gradient_descent(x, y, w_init, \n",
    "                                                  mse, gradient_mse,\n",
    "                                                  1000, 0.000000001)\n",
    "print(\"Weights (theta1, theta2):\", weights)\n",
    "print(\"Minimum cost function:\", cost_function_history[-1][0])"
   ]
  },
  {
   "cell_type": "markdown",
   "metadata": {},
   "source": [
    "Bibliography:\n",
    "\n",
    "Gradient Descent\n",
    "\n",
    "* https://stackabuse.com/gradient-descent-in-python-implementation-and-theory/\n",
    "* https://towardsdatascience.com/gradient-descent-in-python-a0d07285742f\n",
    "* https://colab.research.google.com/gist/sagarmainkar/5cfa33898a303f895da5100472371d91/notebook.ipynb#scrollTo=KdAHnLQKY9ao\n"
   ]
  }
 ],
 "metadata": {
  "kernelspec": {
   "display_name": "Python 3",
   "language": "python",
   "name": "python3"
  },
  "language_info": {
   "codemirror_mode": {
    "name": "ipython",
    "version": 3
   },
   "file_extension": ".py",
   "mimetype": "text/x-python",
   "name": "python",
   "nbconvert_exporter": "python",
   "pygments_lexer": "ipython3",
   "version": "3.7.3"
  }
 },
 "nbformat": 4,
 "nbformat_minor": 2
}
