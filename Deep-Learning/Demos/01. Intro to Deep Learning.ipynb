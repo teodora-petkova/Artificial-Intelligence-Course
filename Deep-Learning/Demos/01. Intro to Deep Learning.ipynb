{
 "cells": [
  {
   "cell_type": "code",
   "execution_count": 1,
   "metadata": {},
   "outputs": [],
   "source": [
    "%matplotlib inline"
   ]
  },
  {
   "cell_type": "code",
   "execution_count": 2,
   "metadata": {},
   "outputs": [],
   "source": [
    "import numpy as np\n",
    "import pandas as pd\n",
    "import matplotlib.pyplot as plt\n",
    "\n",
    "import tensorflow as tf\n",
    "\n",
    "from tensorflow.keras.models import Sequential\n",
    "from tensorflow.keras.layers import Input, Dense"
   ]
  },
  {
   "cell_type": "markdown",
   "metadata": {},
   "source": [
    "# Introduction to Deep Learning\n",
    "## Live Demos"
   ]
  },
  {
   "cell_type": "code",
   "execution_count": 3,
   "metadata": {},
   "outputs": [],
   "source": [
    "# (2a + 3b)^2"
   ]
  },
  {
   "cell_type": "code",
   "execution_count": 4,
   "metadata": {},
   "outputs": [],
   "source": [
    "a = tf.constant(300)\n",
    "b = tf.constant(100)"
   ]
  },
  {
   "cell_type": "code",
   "execution_count": 5,
   "metadata": {},
   "outputs": [
    {
     "data": {
      "text/plain": [
       "<tf.Tensor: id=8, shape=(), dtype=int32, numpy=810000>"
      ]
     },
     "execution_count": 5,
     "metadata": {},
     "output_type": "execute_result"
    }
   ],
   "source": [
    "tf.pow(tf.add(tf.multiply(2, a), tf.multiply(3, b)), 2)"
   ]
  },
  {
   "cell_type": "code",
   "execution_count": 6,
   "metadata": {},
   "outputs": [
    {
     "data": {
      "text/plain": [
       "8100"
      ]
     },
     "execution_count": 6,
     "metadata": {},
     "output_type": "execute_result"
    }
   ],
   "source": [
    "(2 * 30 + 3 * 10) ** 2"
   ]
  },
  {
   "cell_type": "code",
   "execution_count": 7,
   "metadata": {},
   "outputs": [
    {
     "data": {
      "text/plain": [
       "<tf.Tensor: id=15, shape=(), dtype=int32, numpy=810000>"
      ]
     },
     "execution_count": 7,
     "metadata": {},
     "output_type": "execute_result"
    }
   ],
   "source": [
    "(2 * a + 3 * b) ** 2"
   ]
  },
  {
   "cell_type": "code",
   "execution_count": 8,
   "metadata": {},
   "outputs": [
    {
     "name": "stdout",
     "output_type": "stream",
     "text": [
      "[169 324 529]\n"
     ]
    }
   ],
   "source": [
    "@tf.function\n",
    "def compute(a, b):\n",
    "    return tf.pow(\n",
    "        tf.add(\n",
    "            tf.multiply(2, a),\n",
    "            tf.multiply(3, b)),\n",
    "        2)\n",
    "a, b = tf.constant([2, 3, 4]), tf.constant([3, 4, 5])\n",
    "tf.summary.trace_on(graph = True, profiler = True)\n",
    "result = compute(a, b)\n",
    "print(result.numpy())\n",
    "writer = tf.summary.create_file_writer(\"logs\")\n",
    "with writer.as_default():\n",
    "    tf.summary.trace_export(\n",
    "        name = \"compute_trace\",\n",
    "        step = 0,\n",
    "        profiler_outdir = \"logs\")"
   ]
  },
  {
   "cell_type": "code",
   "execution_count": 9,
   "metadata": {},
   "outputs": [],
   "source": [
    "#tensorboard --logdir logs"
   ]
  },
  {
   "cell_type": "code",
   "execution_count": 10,
   "metadata": {},
   "outputs": [],
   "source": [
    "bank_data = pd.read_csv(\"data/bank.csv\", sep = \";\", true_values = [\"yes\"], false_values = [\"no\"])"
   ]
  },
  {
   "cell_type": "code",
   "execution_count": 11,
   "metadata": {},
   "outputs": [
    {
     "data": {
      "text/html": [
       "<div>\n",
       "<style scoped>\n",
       "    .dataframe tbody tr th:only-of-type {\n",
       "        vertical-align: middle;\n",
       "    }\n",
       "\n",
       "    .dataframe tbody tr th {\n",
       "        vertical-align: top;\n",
       "    }\n",
       "\n",
       "    .dataframe thead th {\n",
       "        text-align: right;\n",
       "    }\n",
       "</style>\n",
       "<table border=\"1\" class=\"dataframe\">\n",
       "  <thead>\n",
       "    <tr style=\"text-align: right;\">\n",
       "      <th></th>\n",
       "      <th>age</th>\n",
       "      <th>job</th>\n",
       "      <th>marital</th>\n",
       "      <th>education</th>\n",
       "      <th>default</th>\n",
       "      <th>balance</th>\n",
       "      <th>housing</th>\n",
       "      <th>loan</th>\n",
       "      <th>contact</th>\n",
       "      <th>day</th>\n",
       "      <th>month</th>\n",
       "      <th>duration</th>\n",
       "      <th>campaign</th>\n",
       "      <th>pdays</th>\n",
       "      <th>previous</th>\n",
       "      <th>poutcome</th>\n",
       "      <th>y</th>\n",
       "    </tr>\n",
       "  </thead>\n",
       "  <tbody>\n",
       "    <tr>\n",
       "      <th>0</th>\n",
       "      <td>30</td>\n",
       "      <td>unemployed</td>\n",
       "      <td>married</td>\n",
       "      <td>primary</td>\n",
       "      <td>False</td>\n",
       "      <td>1787</td>\n",
       "      <td>False</td>\n",
       "      <td>False</td>\n",
       "      <td>cellular</td>\n",
       "      <td>19</td>\n",
       "      <td>oct</td>\n",
       "      <td>79</td>\n",
       "      <td>1</td>\n",
       "      <td>-1</td>\n",
       "      <td>0</td>\n",
       "      <td>unknown</td>\n",
       "      <td>False</td>\n",
       "    </tr>\n",
       "    <tr>\n",
       "      <th>1</th>\n",
       "      <td>33</td>\n",
       "      <td>services</td>\n",
       "      <td>married</td>\n",
       "      <td>secondary</td>\n",
       "      <td>False</td>\n",
       "      <td>4789</td>\n",
       "      <td>True</td>\n",
       "      <td>True</td>\n",
       "      <td>cellular</td>\n",
       "      <td>11</td>\n",
       "      <td>may</td>\n",
       "      <td>220</td>\n",
       "      <td>1</td>\n",
       "      <td>339</td>\n",
       "      <td>4</td>\n",
       "      <td>failure</td>\n",
       "      <td>False</td>\n",
       "    </tr>\n",
       "    <tr>\n",
       "      <th>2</th>\n",
       "      <td>35</td>\n",
       "      <td>management</td>\n",
       "      <td>single</td>\n",
       "      <td>tertiary</td>\n",
       "      <td>False</td>\n",
       "      <td>1350</td>\n",
       "      <td>True</td>\n",
       "      <td>False</td>\n",
       "      <td>cellular</td>\n",
       "      <td>16</td>\n",
       "      <td>apr</td>\n",
       "      <td>185</td>\n",
       "      <td>1</td>\n",
       "      <td>330</td>\n",
       "      <td>1</td>\n",
       "      <td>failure</td>\n",
       "      <td>False</td>\n",
       "    </tr>\n",
       "    <tr>\n",
       "      <th>3</th>\n",
       "      <td>30</td>\n",
       "      <td>management</td>\n",
       "      <td>married</td>\n",
       "      <td>tertiary</td>\n",
       "      <td>False</td>\n",
       "      <td>1476</td>\n",
       "      <td>True</td>\n",
       "      <td>True</td>\n",
       "      <td>unknown</td>\n",
       "      <td>3</td>\n",
       "      <td>jun</td>\n",
       "      <td>199</td>\n",
       "      <td>4</td>\n",
       "      <td>-1</td>\n",
       "      <td>0</td>\n",
       "      <td>unknown</td>\n",
       "      <td>False</td>\n",
       "    </tr>\n",
       "    <tr>\n",
       "      <th>4</th>\n",
       "      <td>59</td>\n",
       "      <td>blue-collar</td>\n",
       "      <td>married</td>\n",
       "      <td>secondary</td>\n",
       "      <td>False</td>\n",
       "      <td>0</td>\n",
       "      <td>True</td>\n",
       "      <td>False</td>\n",
       "      <td>unknown</td>\n",
       "      <td>5</td>\n",
       "      <td>may</td>\n",
       "      <td>226</td>\n",
       "      <td>1</td>\n",
       "      <td>-1</td>\n",
       "      <td>0</td>\n",
       "      <td>unknown</td>\n",
       "      <td>False</td>\n",
       "    </tr>\n",
       "    <tr>\n",
       "      <th>...</th>\n",
       "      <td>...</td>\n",
       "      <td>...</td>\n",
       "      <td>...</td>\n",
       "      <td>...</td>\n",
       "      <td>...</td>\n",
       "      <td>...</td>\n",
       "      <td>...</td>\n",
       "      <td>...</td>\n",
       "      <td>...</td>\n",
       "      <td>...</td>\n",
       "      <td>...</td>\n",
       "      <td>...</td>\n",
       "      <td>...</td>\n",
       "      <td>...</td>\n",
       "      <td>...</td>\n",
       "      <td>...</td>\n",
       "      <td>...</td>\n",
       "    </tr>\n",
       "    <tr>\n",
       "      <th>4516</th>\n",
       "      <td>33</td>\n",
       "      <td>services</td>\n",
       "      <td>married</td>\n",
       "      <td>secondary</td>\n",
       "      <td>False</td>\n",
       "      <td>-333</td>\n",
       "      <td>True</td>\n",
       "      <td>False</td>\n",
       "      <td>cellular</td>\n",
       "      <td>30</td>\n",
       "      <td>jul</td>\n",
       "      <td>329</td>\n",
       "      <td>5</td>\n",
       "      <td>-1</td>\n",
       "      <td>0</td>\n",
       "      <td>unknown</td>\n",
       "      <td>False</td>\n",
       "    </tr>\n",
       "    <tr>\n",
       "      <th>4517</th>\n",
       "      <td>57</td>\n",
       "      <td>self-employed</td>\n",
       "      <td>married</td>\n",
       "      <td>tertiary</td>\n",
       "      <td>True</td>\n",
       "      <td>-3313</td>\n",
       "      <td>True</td>\n",
       "      <td>True</td>\n",
       "      <td>unknown</td>\n",
       "      <td>9</td>\n",
       "      <td>may</td>\n",
       "      <td>153</td>\n",
       "      <td>1</td>\n",
       "      <td>-1</td>\n",
       "      <td>0</td>\n",
       "      <td>unknown</td>\n",
       "      <td>False</td>\n",
       "    </tr>\n",
       "    <tr>\n",
       "      <th>4518</th>\n",
       "      <td>57</td>\n",
       "      <td>technician</td>\n",
       "      <td>married</td>\n",
       "      <td>secondary</td>\n",
       "      <td>False</td>\n",
       "      <td>295</td>\n",
       "      <td>False</td>\n",
       "      <td>False</td>\n",
       "      <td>cellular</td>\n",
       "      <td>19</td>\n",
       "      <td>aug</td>\n",
       "      <td>151</td>\n",
       "      <td>11</td>\n",
       "      <td>-1</td>\n",
       "      <td>0</td>\n",
       "      <td>unknown</td>\n",
       "      <td>False</td>\n",
       "    </tr>\n",
       "    <tr>\n",
       "      <th>4519</th>\n",
       "      <td>28</td>\n",
       "      <td>blue-collar</td>\n",
       "      <td>married</td>\n",
       "      <td>secondary</td>\n",
       "      <td>False</td>\n",
       "      <td>1137</td>\n",
       "      <td>False</td>\n",
       "      <td>False</td>\n",
       "      <td>cellular</td>\n",
       "      <td>6</td>\n",
       "      <td>feb</td>\n",
       "      <td>129</td>\n",
       "      <td>4</td>\n",
       "      <td>211</td>\n",
       "      <td>3</td>\n",
       "      <td>other</td>\n",
       "      <td>False</td>\n",
       "    </tr>\n",
       "    <tr>\n",
       "      <th>4520</th>\n",
       "      <td>44</td>\n",
       "      <td>entrepreneur</td>\n",
       "      <td>single</td>\n",
       "      <td>tertiary</td>\n",
       "      <td>False</td>\n",
       "      <td>1136</td>\n",
       "      <td>True</td>\n",
       "      <td>True</td>\n",
       "      <td>cellular</td>\n",
       "      <td>3</td>\n",
       "      <td>apr</td>\n",
       "      <td>345</td>\n",
       "      <td>2</td>\n",
       "      <td>249</td>\n",
       "      <td>7</td>\n",
       "      <td>other</td>\n",
       "      <td>False</td>\n",
       "    </tr>\n",
       "  </tbody>\n",
       "</table>\n",
       "<p>4521 rows × 17 columns</p>\n",
       "</div>"
      ],
      "text/plain": [
       "      age            job  marital  education  default  balance  housing  \\\n",
       "0      30     unemployed  married    primary    False     1787    False   \n",
       "1      33       services  married  secondary    False     4789     True   \n",
       "2      35     management   single   tertiary    False     1350     True   \n",
       "3      30     management  married   tertiary    False     1476     True   \n",
       "4      59    blue-collar  married  secondary    False        0     True   \n",
       "...   ...            ...      ...        ...      ...      ...      ...   \n",
       "4516   33       services  married  secondary    False     -333     True   \n",
       "4517   57  self-employed  married   tertiary     True    -3313     True   \n",
       "4518   57     technician  married  secondary    False      295    False   \n",
       "4519   28    blue-collar  married  secondary    False     1137    False   \n",
       "4520   44   entrepreneur   single   tertiary    False     1136     True   \n",
       "\n",
       "       loan   contact  day month  duration  campaign  pdays  previous  \\\n",
       "0     False  cellular   19   oct        79         1     -1         0   \n",
       "1      True  cellular   11   may       220         1    339         4   \n",
       "2     False  cellular   16   apr       185         1    330         1   \n",
       "3      True   unknown    3   jun       199         4     -1         0   \n",
       "4     False   unknown    5   may       226         1     -1         0   \n",
       "...     ...       ...  ...   ...       ...       ...    ...       ...   \n",
       "4516  False  cellular   30   jul       329         5     -1         0   \n",
       "4517   True   unknown    9   may       153         1     -1         0   \n",
       "4518  False  cellular   19   aug       151        11     -1         0   \n",
       "4519  False  cellular    6   feb       129         4    211         3   \n",
       "4520   True  cellular    3   apr       345         2    249         7   \n",
       "\n",
       "     poutcome      y  \n",
       "0     unknown  False  \n",
       "1     failure  False  \n",
       "2     failure  False  \n",
       "3     unknown  False  \n",
       "4     unknown  False  \n",
       "...       ...    ...  \n",
       "4516  unknown  False  \n",
       "4517  unknown  False  \n",
       "4518  unknown  False  \n",
       "4519    other  False  \n",
       "4520    other  False  \n",
       "\n",
       "[4521 rows x 17 columns]"
      ]
     },
     "execution_count": 11,
     "metadata": {},
     "output_type": "execute_result"
    }
   ],
   "source": [
    "bank_data"
   ]
  },
  {
   "cell_type": "code",
   "execution_count": 12,
   "metadata": {},
   "outputs": [
    {
     "data": {
      "text/plain": [
       "(4521, 17)"
      ]
     },
     "execution_count": 12,
     "metadata": {},
     "output_type": "execute_result"
    }
   ],
   "source": [
    "bank_data.shape"
   ]
  },
  {
   "cell_type": "code",
   "execution_count": 13,
   "metadata": {},
   "outputs": [
    {
     "data": {
      "image/png": "[encoded data removed]",
      "text/plain": [
       "<Figure size 432x288 with 1 Axes>"
      ]
     },
     "metadata": {
      "needs_background": "light"
     },
     "output_type": "display_data"
    }
   ],
   "source": [
    "plt.hist(bank_data.age, bins = 20)\n",
    "plt.xlabel(\"Age\")\n",
    "plt.show()"
   ]
  },
  {
   "cell_type": "code",
   "execution_count": 14,
   "metadata": {},
   "outputs": [
    {
     "data": {
      "text/plain": [
       "age           int64\n",
       "job          object\n",
       "marital      object\n",
       "education    object\n",
       "default        bool\n",
       "balance       int64\n",
       "housing        bool\n",
       "loan           bool\n",
       "contact      object\n",
       "day           int64\n",
       "month        object\n",
       "duration      int64\n",
       "campaign      int64\n",
       "pdays         int64\n",
       "previous      int64\n",
       "poutcome     object\n",
       "y              bool\n",
       "dtype: object"
      ]
     },
     "execution_count": 14,
     "metadata": {},
     "output_type": "execute_result"
    }
   ],
   "source": [
    "bank_data.dtypes"
   ]
  },
  {
   "cell_type": "code",
   "execution_count": 15,
   "metadata": {},
   "outputs": [],
   "source": [
    "bank_data = pd.get_dummies(bank_data)"
   ]
  },
  {
   "cell_type": "code",
   "execution_count": 16,
   "metadata": {},
   "outputs": [
    {
     "data": {
      "text/plain": [
       "(4521, 49)"
      ]
     },
     "execution_count": 16,
     "metadata": {},
     "output_type": "execute_result"
    }
   ],
   "source": [
    "bank_data.shape"
   ]
  },
  {
   "cell_type": "code",
   "execution_count": 17,
   "metadata": {},
   "outputs": [],
   "source": [
    "bank_data = bank_data.astype(np.float64)"
   ]
  },
  {
   "cell_type": "code",
   "execution_count": 18,
   "metadata": {},
   "outputs": [
    {
     "data": {
      "text/plain": [
       "age                    float64\n",
       "default                float64\n",
       "balance                float64\n",
       "housing                float64\n",
       "loan                   float64\n",
       "day                    float64\n",
       "duration               float64\n",
       "campaign               float64\n",
       "pdays                  float64\n",
       "previous               float64\n",
       "y                      float64\n",
       "job_admin.             float64\n",
       "job_blue-collar        float64\n",
       "job_entrepreneur       float64\n",
       "job_housemaid          float64\n",
       "job_management         float64\n",
       "job_retired            float64\n",
       "job_self-employed      float64\n",
       "job_services           float64\n",
       "job_student            float64\n",
       "job_technician         float64\n",
       "job_unemployed         float64\n",
       "job_unknown            float64\n",
       "marital_divorced       float64\n",
       "marital_married        float64\n",
       "marital_single         float64\n",
       "education_primary      float64\n",
       "education_secondary    float64\n",
       "education_tertiary     float64\n",
       "education_unknown      float64\n",
       "contact_cellular       float64\n",
       "contact_telephone      float64\n",
       "contact_unknown        float64\n",
       "month_apr              float64\n",
       "month_aug              float64\n",
       "month_dec              float64\n",
       "month_feb              float64\n",
       "month_jan              float64\n",
       "month_jul              float64\n",
       "month_jun              float64\n",
       "month_mar              float64\n",
       "month_may              float64\n",
       "month_nov              float64\n",
       "month_oct              float64\n",
       "month_sep              float64\n",
       "poutcome_failure       float64\n",
       "poutcome_other         float64\n",
       "poutcome_success       float64\n",
       "poutcome_unknown       float64\n",
       "dtype: object"
      ]
     },
     "execution_count": 18,
     "metadata": {},
     "output_type": "execute_result"
    }
   ],
   "source": [
    "bank_data.dtypes"
   ]
  },
  {
   "cell_type": "code",
   "execution_count": 19,
   "metadata": {},
   "outputs": [],
   "source": [
    "attributes = bank_data.drop([\"y\"], axis = 1)"
   ]
  },
  {
   "cell_type": "code",
   "execution_count": 20,
   "metadata": {},
   "outputs": [],
   "source": [
    "labels = bank_data[\"y\"]"
   ]
  },
  {
   "cell_type": "code",
   "execution_count": 21,
   "metadata": {},
   "outputs": [],
   "source": [
    "min_max_scale = lambda col: (col - tf.reduce_min(col)) / (tf.reduce_max(col) - tf.reduce_min(col))"
   ]
  },
  {
   "cell_type": "code",
   "execution_count": 22,
   "metadata": {},
   "outputs": [],
   "source": [
    "num_columns = attributes.shape[1]\n",
    "transformed_columns = [min_max_scale(attributes.values[:, i]) for i in range(num_columns)]"
   ]
  },
  {
   "cell_type": "code",
   "execution_count": 23,
   "metadata": {},
   "outputs": [],
   "source": [
    "bank_data_transformed = tf.stack(transformed_columns, axis = 1)"
   ]
  },
  {
   "cell_type": "code",
   "execution_count": 24,
   "metadata": {},
   "outputs": [
    {
     "data": {
      "image/png": "[encoded data removed]",
      "text/plain": [
       "<Figure size 432x288 with 1 Axes>"
      ]
     },
     "metadata": {
      "needs_background": "light"
     },
     "output_type": "display_data"
    }
   ],
   "source": [
    "plt.hist(bank_data_transformed.numpy()[:, 0], bins = 20)\n",
    "plt.show()"
   ]
  },
  {
   "cell_type": "code",
   "execution_count": 25,
   "metadata": {},
   "outputs": [
    {
     "data": {
      "text/plain": [
       "TensorShape([4521, 48])"
      ]
     },
     "execution_count": 25,
     "metadata": {},
     "output_type": "execute_result"
    }
   ],
   "source": [
    "bank_data_transformed.shape"
   ]
  },
  {
   "cell_type": "code",
   "execution_count": 26,
   "metadata": {},
   "outputs": [],
   "source": [
    "labels = labels.astype(int).values"
   ]
  },
  {
   "cell_type": "code",
   "execution_count": 27,
   "metadata": {},
   "outputs": [],
   "source": [
    "labels_onehot = tf.one_hot(labels, depth = 2)"
   ]
  },
  {
   "cell_type": "code",
   "execution_count": 28,
   "metadata": {},
   "outputs": [],
   "source": [
    "logistic_regression = Sequential([\n",
    "    Input(shape = num_columns),\n",
    "    Dense(2, activation = \"sigmoid\")\n",
    "])"
   ]
  },
  {
   "cell_type": "code",
   "execution_count": 29,
   "metadata": {},
   "outputs": [
    {
     "name": "stdout",
     "output_type": "stream",
     "text": [
      "Model: \"sequential\"\n",
      "_________________________________________________________________\n",
      "Layer (type)                 Output Shape              Param #   \n",
      "=================================================================\n",
      "dense (Dense)                (None, 2)                 98        \n",
      "=================================================================\n",
      "Total params: 98\n",
      "Trainable params: 98\n",
      "Non-trainable params: 0\n",
      "_________________________________________________________________\n"
     ]
    }
   ],
   "source": [
    "logistic_regression.summary()"
   ]
  },
  {
   "cell_type": "code",
   "execution_count": 30,
   "metadata": {},
   "outputs": [],
   "source": [
    "logistic_regression.compile(optimizer = \"adam\", loss = \"categorical_crossentropy\")"
   ]
  },
  {
   "cell_type": "code",
   "execution_count": 31,
   "metadata": {},
   "outputs": [
    {
     "name": "stdout",
     "output_type": "stream",
     "text": [
      "Train on 4521 samples\n",
      "Epoch 1/10\n",
      "4521/4521 [==============================] - 2s 360us/sample - loss: 0.5038\n",
      "Epoch 2/10\n",
      "4521/4521 [==============================] - 0s 38us/sample - loss: 0.3802\n",
      "Epoch 3/10\n",
      "4521/4521 [==============================] - 0s 35us/sample - loss: 0.3488\n",
      "Epoch 4/10\n",
      "4521/4521 [==============================] - 0s 38us/sample - loss: 0.3377\n",
      "Epoch 5/10\n",
      "4521/4521 [==============================] - 0s 35us/sample - loss: 0.3308\n",
      "Epoch 6/10\n",
      "4521/4521 [==============================] - 1s 153us/sample - loss: 0.3253\n",
      "Epoch 7/10\n",
      "4521/4521 [==============================] - 0s 34us/sample - loss: 0.3205\n",
      "Epoch 8/10\n",
      "4521/4521 [==============================] - 0s 33us/sample - loss: 0.3163\n",
      "Epoch 9/10\n",
      "4521/4521 [==============================] - 0s 32us/sample - loss: 0.3124\n",
      "Epoch 10/10\n",
      "4521/4521 [==============================] - 0s 35us/sample - loss: 0.3090\n"
     ]
    },
    {
     "data": {
      "text/plain": [
       "<tensorflow.python.keras.callbacks.History at 0x7f789c46d9e8>"
      ]
     },
     "execution_count": 31,
     "metadata": {},
     "output_type": "execute_result"
    }
   ],
   "source": [
    "logistic_regression.fit(x = bank_data_transformed, y = labels_onehot, epochs = 10)"
   ]
  },
  {
   "cell_type": "code",
   "execution_count": 32,
   "metadata": {},
   "outputs": [
    {
     "data": {
      "text/plain": [
       "<tf.Variable 'dense/kernel:0' shape=(48, 2) dtype=float32, numpy=\n",
       "array([[-0.0537993 , -0.09280661],\n",
       "       [-0.22197679,  0.1250082 ],\n",
       "       [ 0.02099313, -0.57151484],\n",
       "       [-0.18754016, -0.43148568],\n",
       "       [-0.07169098, -0.33844194],\n",
       "       [ 0.07761669, -0.32406202],\n",
       "       [-1.0264754 ,  0.5225454 ],\n",
       "       [ 0.36482456, -0.5915555 ],\n",
       "       [ 0.08789384, -0.26545197],\n",
       "       [-0.29921538,  0.17715253],\n",
       "       [-0.09699991, -0.3951537 ],\n",
       "       [ 0.31314963, -0.5442752 ],\n",
       "       [-0.18156393, -0.32861564],\n",
       "       [-0.11672413, -0.03889603],\n",
       "       [ 0.03304674, -0.13728139],\n",
       "       [-0.00789192, -0.05513267],\n",
       "       [-0.26339656, -0.42975453],\n",
       "       [ 0.3937461 , -0.29982322],\n",
       "       [ 0.11668498,  0.2441741 ],\n",
       "       [ 0.2621269 , -0.43755114],\n",
       "       [ 0.19801939, -0.18097478],\n",
       "       [-0.06320525, -0.13478167],\n",
       "       [ 0.11772346, -0.05715742],\n",
       "       [ 0.3739257 , -0.12535812],\n",
       "       [-0.04740082, -0.1333743 ],\n",
       "       [ 0.2740844 , -0.22355293],\n",
       "       [-0.08683029, -0.15696229],\n",
       "       [-0.09144583, -0.20758939],\n",
       "       [ 0.42614165, -0.13002563],\n",
       "       [ 0.1270167 , -0.18460044],\n",
       "       [-0.22018278, -0.38419512],\n",
       "       [ 0.31551847, -0.56660944],\n",
       "       [ 0.14126892,  0.2559076 ],\n",
       "       [-0.24212857, -0.2998178 ],\n",
       "       [ 0.15145482, -0.09598003],\n",
       "       [ 0.3588225 ,  0.03055879],\n",
       "       [ 0.1122172 , -0.19182332],\n",
       "       [-0.12663817, -0.37871838],\n",
       "       [ 0.25568545, -0.07014175],\n",
       "       [-0.3699319 ,  0.220397  ],\n",
       "       [ 0.4649149 , -0.2764023 ],\n",
       "       [ 0.36533988, -0.384754  ],\n",
       "       [-0.66883314,  0.25452554],\n",
       "       [-0.07492684, -0.06699234],\n",
       "       [-0.12597793, -0.32695547],\n",
       "       [ 0.361878  ,  0.12464952],\n",
       "       [-0.7606952 ,  0.94411415],\n",
       "       [ 0.34262583, -0.69458103]], dtype=float32)>"
      ]
     },
     "execution_count": 32,
     "metadata": {},
     "output_type": "execute_result"
    }
   ],
   "source": [
    "logistic_regression.layers[0].kernel"
   ]
  },
  {
   "cell_type": "code",
   "execution_count": 33,
   "metadata": {},
   "outputs": [],
   "source": [
    "neural_network = Sequential([\n",
    "    Input(shape = num_columns),\n",
    "    Dense(30, activation = \"relu\"),\n",
    "    Dense(20, activation = \"relu\"),\n",
    "    Dense(10, activation = \"relu\"),\n",
    "    Dense(2, activation = \"sigmoid\")\n",
    "])"
   ]
  },
  {
   "cell_type": "code",
   "execution_count": 34,
   "metadata": {},
   "outputs": [
    {
     "name": "stdout",
     "output_type": "stream",
     "text": [
      "Model: \"sequential_1\"\n",
      "_________________________________________________________________\n",
      "Layer (type)                 Output Shape              Param #   \n",
      "=================================================================\n",
      "dense_1 (Dense)              (None, 30)                1470      \n",
      "_________________________________________________________________\n",
      "dense_2 (Dense)              (None, 20)                620       \n",
      "_________________________________________________________________\n",
      "dense_3 (Dense)              (None, 10)                210       \n",
      "_________________________________________________________________\n",
      "dense_4 (Dense)              (None, 2)                 22        \n",
      "=================================================================\n",
      "Total params: 2,322\n",
      "Trainable params: 2,322\n",
      "Non-trainable params: 0\n",
      "_________________________________________________________________\n"
     ]
    }
   ],
   "source": [
    "neural_network.summary()"
   ]
  },
  {
   "cell_type": "code",
   "execution_count": 35,
   "metadata": {},
   "outputs": [],
   "source": [
    "neural_network.compile(optimizer = \"adam\", loss = \"categorical_crossentropy\")"
   ]
  },
  {
   "cell_type": "code",
   "execution_count": 36,
   "metadata": {},
   "outputs": [
    {
     "name": "stdout",
     "output_type": "stream",
     "text": [
      "Train on 4521 samples\n",
      "Epoch 1/10\n",
      "4521/4521 [==============================] - 1s 135us/sample - loss: 0.5491\n",
      "Epoch 2/10\n",
      "4521/4521 [==============================] - 0s 52us/sample - loss: 0.3311\n",
      "Epoch 3/10\n",
      "4521/4521 [==============================] - 0s 50us/sample - loss: 0.3114\n",
      "Epoch 4/10\n",
      "4521/4521 [==============================] - 0s 56us/sample - loss: 0.2902\n",
      "Epoch 5/10\n",
      "4521/4521 [==============================] - 0s 50us/sample - loss: 0.2691\n",
      "Epoch 6/10\n",
      "4521/4521 [==============================] - 0s 43us/sample - loss: 0.2466\n",
      "Epoch 7/10\n",
      "4521/4521 [==============================] - 0s 44us/sample - loss: 0.2336\n",
      "Epoch 8/10\n",
      "4521/4521 [==============================] - 0s 46us/sample - loss: 0.2243\n",
      "Epoch 9/10\n",
      "4521/4521 [==============================] - 0s 42us/sample - loss: 0.2182\n",
      "Epoch 10/10\n",
      "4521/4521 [==============================] - 0s 42us/sample - loss: 0.2124\n"
     ]
    },
    {
     "data": {
      "text/plain": [
       "<tensorflow.python.keras.callbacks.History at 0x7f785df52c18>"
      ]
     },
     "execution_count": 36,
     "metadata": {},
     "output_type": "execute_result"
    }
   ],
   "source": [
    "neural_network.fit(x = bank_data_transformed, y = labels_onehot, epochs = 10)"
   ]
  },
  {
   "cell_type": "code",
   "execution_count": null,
   "metadata": {},
   "outputs": [],
   "source": []
  }
 ],
 "metadata": {
  "kernelspec": {
   "display_name": "Python 3",
   "language": "python",
   "name": "python3"
  },
  "language_info": {
   "codemirror_mode": {
    "name": "ipython",
    "version": 3
   },
   "file_extension": ".py",
   "mimetype": "text/x-python",
   "name": "python",
   "nbconvert_exporter": "python",
   "pygments_lexer": "ipython3",
   "version": "3.7.3"
  }
 },
 "nbformat": 4,
 "nbformat_minor": 4
}
