{
 "cells": [
  {
   "cell_type": "markdown",
   "metadata": {},
   "source": [
    "# Jupyter Notebook Tips\n",
    "\n",
    "## Shortcuts\n",
    "\n",
    "In all modes: \n",
    "\n",
    "| Shortcut | Usage |\n",
    "|:---|:---|\n",
    "| Shift + Enter | run the current cell, select below |\n",
    "| Ctrl + Enter | run selected cells |\n",
    "| Alt + Enter | run the current cell, insert below |\n",
    "| Ctrl + S | save and checkpoint |\n",
    "\n",
    "Python code:\n",
    "\n",
    "| Shortcut | Usage |\n",
    "|:---|:---|\n",
    "| Shift + Tab | documentation |\n",
    "| Ctrl +'/' | Comment/Uncomment multiple lines |\n",
    "\n",
    "## Links\n",
    "1. Tables - http://www.tablesgenerator.com/markdown_tables\n",
    "\n"
   ]
  },
  {
   "cell_type": "code",
   "execution_count": null,
   "metadata": {},
   "outputs": [],
   "source": []
  }
 ],
 "metadata": {
  "kernelspec": {
   "display_name": "Python 3",
   "language": "python",
   "name": "python3"
  },
  "language_info": {
   "codemirror_mode": {
    "name": "ipython",
    "version": 3
   },
   "file_extension": ".py",
   "mimetype": "text/x-python",
   "name": "python",
   "nbconvert_exporter": "python",
   "pygments_lexer": "ipython3",
   "version": "3.6.6"
  }
 },
 "nbformat": 4,
 "nbformat_minor": 2
}
