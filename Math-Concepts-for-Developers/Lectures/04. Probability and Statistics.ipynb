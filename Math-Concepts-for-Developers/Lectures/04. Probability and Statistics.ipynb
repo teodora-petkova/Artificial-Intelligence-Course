{
 "cells": [
  {
   "cell_type": "code",
   "execution_count": 1,
   "metadata": {},
   "outputs": [],
   "source": [
    "%matplotlib inline"
   ]
  },
  {
   "cell_type": "code",
   "execution_count": 2,
   "metadata": {},
   "outputs": [],
   "source": [
    "import numpy as np\n",
    "import numpy.polynomial.polynomial as p\n",
    "import matplotlib.pyplot as plt\n",
    "import sympy as sp\n",
    "from collections import Counter"
   ]
  },
  {
   "cell_type": "markdown",
   "metadata": {},
   "source": [
    "# Probability and Combinatorics\n",
    "\n",
    "* събитие \n",
    "    - това, което може да се случи (не какво се е случило!)\n",
    "* случайно събитие (random event)\n",
    "    - всички възможни изходи на даден експеримент\n",
    "    - всяко събитие става с някаква вероятност\n",
    "* случайна променлива (random variable)\n",
    "    - алгебрична променлива, която показва какво се е случило\n",
    "    - обикновено се означава с X,Y,Z... (главни букви)\n",
    "\n",
    "Пример: \n",
    "<br>\n",
    "$X$: tossing coins\n",
    "<br>\n",
    "$X = {H, T}$\n",
    "<br>\n",
    "Всеки възможен изход има вероятност, с която се случва\n",
    "<br>\n",
    "<br>\n",
    "NB! Никога не можем да кажем кое от възможните събитие ще случи следващо!\n",
    "Статистиката работи, когато имаме експеримент с много опити, изпълняващ се много пъти.\n",
    "Можем да оценим нещо, само ако имам достатъчно на брой експерименти.\n",
    "\n",
    "## Честотна дефиниция на вероятност (Frequentist or Statistical probability)\n",
    "\n",
    "Честота/Frequency\n",
    "$$ f_i = \\frac{m_i}{n} $$\n",
    "$n$ - брой опити\n",
    "<br>\n",
    "$m_i$ - брой опити, в които сме получили изход $i$, $m_i <= n$\n",
    "<br>\n",
    "i = {1,2,3,4,5,6}\n",
    "<br>\n",
    "Стабилизираме честотата, когато n клони към безкрайност \n",
    "<br>\n",
    "f1 = 993 / 6000 (първи експеримент) - описание на това, което вече се е случило\n",
    "<br>\n",
    "n = 6000 експеримента\n",
    "\n",
    "$$ p(A) = \\lim_{n\\to\\infty} \\frac{m_i}{n}$$\n",
    "\n",
    "## Плътност на вероятността (Probability density)\n",
    "\n",
    "Някои случайни събития имат безкрайно много изходи.\n",
    "\n",
    "* Probability density \n",
    "    - вероятността даден изход да бъде в малък интервал dx\n",
    "   \n",
    "$$dp = \\frac{dx}{b-a}$$\n",
    "\n",
    "$ p(1) = 0 $ - невъзможно събитие; теоретичната граница, при която ще получим събитие при безкрайно много опити клони към нула\n",
    "\n",
    "NB:\n",
    "p e [0, 1] or percentage p e [0%, 100%]\n",
    "<br>\n",
    "Сумата от всички възможни вероятности е 1.\n"
   ]
  },
  {
   "cell_type": "code",
   "execution_count": 3,
   "metadata": {},
   "outputs": [
    {
     "data": {
      "text/plain": [
       "<function matplotlib.pyplot.show(*args, **kw)>"
      ]
     },
     "execution_count": 3,
     "metadata": {},
     "output_type": "execute_result"
    },
    {
     "data": {
      "image/png": "[encoded data removed]",
      "text/plain": [
       "<Figure size 432x288 with 1 Axes>"
      ]
     },
     "metadata": {
      "needs_background": "light"
     },
     "output_type": "display_data"
    }
   ],
   "source": [
    "np.random.rand(2, 3)\n",
    "np.random.randint(1, 7)\n",
    "dice_throws = np.random.randint(1, 7, size = 2000000)\n",
    "plt.plot(dice_throws)\n",
    "plt.xlabel(\"n\")\n",
    "plt.ylabel(\"outcome\")\n",
    "plt.show"
   ]
  },
  {
   "cell_type": "code",
   "execution_count": 4,
   "metadata": {},
   "outputs": [
    {
     "data": {
      "text/plain": [
       "0.166434"
      ]
     },
     "execution_count": 4,
     "metadata": {},
     "output_type": "execute_result"
    }
   ],
   "source": [
    "(dice_throws == 1).astype(int).sum() / len(dice_throws)"
   ]
  },
  {
   "cell_type": "code",
   "execution_count": 5,
   "metadata": {},
   "outputs": [
    {
     "data": {
      "text/plain": [
       "0.1667635"
      ]
     },
     "execution_count": 5,
     "metadata": {},
     "output_type": "execute_result"
    }
   ],
   "source": [
    "(dice_throws == 2).astype(int).sum() / len(dice_throws)"
   ]
  },
  {
   "cell_type": "code",
   "execution_count": 6,
   "metadata": {},
   "outputs": [
    {
     "data": {
      "text/plain": [
       "[(3, 334034), (6, 333786), (2, 333527), (4, 333402), (1, 332868), (5, 332383)]"
      ]
     },
     "execution_count": 6,
     "metadata": {},
     "output_type": "execute_result"
    }
   ],
   "source": [
    "counter = Counter(dice_throws)\n",
    "counter.most_common()"
   ]
  },
  {
   "cell_type": "code",
   "execution_count": 7,
   "metadata": {},
   "outputs": [
    {
     "data": {
      "text/plain": [
       "[0.01667635, 0.0166893, 0.0167017, 0.01661915, 0.0166434, 0.0166701]"
      ]
     },
     "execution_count": 7,
     "metadata": {},
     "output_type": "execute_result"
    }
   ],
   "source": [
    "[ p / 20_000_000 for p in list(counter.values())] \n",
    "# here we have an experiment\n",
    "# so the frequency is not exactly 1/6\n",
    "# again as much experiments we do, we are closer to the theorethical result..."
   ]
  },
  {
   "cell_type": "code",
   "execution_count": 8,
   "metadata": {},
   "outputs": [
    {
     "data": {
      "text/plain": [
       "0.16666666666666666"
      ]
     },
     "execution_count": 8,
     "metadata": {},
     "output_type": "execute_result"
    }
   ],
   "source": [
    "1/6"
   ]
  },
  {
   "cell_type": "code",
   "execution_count": 9,
   "metadata": {},
   "outputs": [
    {
     "data": {
      "image/png": "[encoded data removed]",
      "text/plain": [
       "<Figure size 432x288 with 1 Axes>"
      ]
     },
     "metadata": {
      "needs_background": "light"
     },
     "output_type": "display_data"
    }
   ],
   "source": [
    "plt.hist(dice_throws, bins = range(1,8))\n",
    "plt.show()\n",
    "# the histogram is divided in bins - intervals!!\n",
    "# in our case we want 7 bins\n",
    "# the probability in every interval we have defined -> frequency visualisation"
   ]
  },
  {
   "cell_type": "code",
   "execution_count": 10,
   "metadata": {},
   "outputs": [
    {
     "data": {
      "text/plain": [
       "Counter({2: 333527, 6: 333786, 3: 334034, 5: 332383, 1: 332868, 4: 333402})"
      ]
     },
     "execution_count": 10,
     "metadata": {},
     "output_type": "execute_result"
    }
   ],
   "source": [
    "counter"
   ]
  },
  {
   "cell_type": "code",
   "execution_count": 11,
   "metadata": {},
   "outputs": [
    {
     "data": {
      "text/plain": [
       "dict_keys([2, 6, 3, 5, 1, 4])"
      ]
     },
     "execution_count": 11,
     "metadata": {},
     "output_type": "execute_result"
    }
   ],
   "source": [
    "counter.keys() # possible values"
   ]
  },
  {
   "cell_type": "code",
   "execution_count": 12,
   "metadata": {},
   "outputs": [
    {
     "data": {
      "text/plain": [
       "dict_values([333527, 333786, 334034, 332383, 332868, 333402])"
      ]
     },
     "execution_count": 12,
     "metadata": {},
     "output_type": "execute_result"
    }
   ],
   "source": [
    "counter.values() # number of experiments/cases we have get results"
   ]
  },
  {
   "cell_type": "code",
   "execution_count": 13,
   "metadata": {},
   "outputs": [
    {
     "data": {
      "text/plain": [
       "<BarContainer object of 6 artists>"
      ]
     },
     "execution_count": 13,
     "metadata": {},
     "output_type": "execute_result"
    },
    {
     "data": {
      "image/png": "[encoded data removed]",
      "text/plain": [
       "<Figure size 432x288 with 1 Axes>"
      ]
     },
     "metadata": {
      "needs_background": "light"
     },
     "output_type": "display_data"
    }
   ],
   "source": [
    "plt.bar(counter.keys(), counter.values())\n",
    "# it is used mainly for discrete variables"
   ]
  }
 ],
 "metadata": {
  "kernelspec": {
   "display_name": "Python 3",
   "language": "python",
   "name": "python3"
  },
  "language_info": {
   "codemirror_mode": {
    "name": "ipython",
    "version": 3
   },
   "file_extension": ".py",
   "mimetype": "text/x-python",
   "name": "python",
   "nbconvert_exporter": "python",
   "pygments_lexer": "ipython3",
   "version": "3.7.3"
  }
 },
 "nbformat": 4,
 "nbformat_minor": 2
}
