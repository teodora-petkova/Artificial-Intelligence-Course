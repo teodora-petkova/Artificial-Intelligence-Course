{
 "cells": [
  {
   "cell_type": "code",
   "execution_count": 1,
   "metadata": {},
   "outputs": [],
   "source": [
    "%matplotlib inline"
   ]
  },
  {
   "cell_type": "code",
   "execution_count": 2,
   "metadata": {},
   "outputs": [],
   "source": [
    "import numpy as np\n",
    "import numpy.polynomial.polynomial as p\n",
    "import matplotlib.pyplot as plt\n",
    "import sympy as sp"
   ]
  },
  {
   "cell_type": "markdown",
   "metadata": {},
   "source": [
    "Calculus\n",
    "\n",
    "1.) Limits\n",
    "\n",
    "2.) Derivatives\n",
    "\n",
    "3.) Calculus in many dimensions\n",
    "\n",
    "4.) Gradient descent\n"
   ]
  },
  {
   "cell_type": "code",
   "execution_count": 3,
   "metadata": {},
   "outputs": [
    {
     "name": "stdout",
     "output_type": "stream",
     "text": [
      "[-8.41470985e-01 -9.98334166e-02 -9.99983333e-03 -9.99999833e-04\n",
      " -9.99999998e-05 -1.00000000e-05 -1.00000000e-06 -1.00000000e-07\n",
      " -1.00000000e-08 -1.00000000e-09 -1.00000000e-10  1.00000000e-10\n",
      "  1.00000000e-09  1.00000000e-08  1.00000000e-07  1.00000000e-06\n",
      "  1.00000000e-05  9.99999998e-05  9.99999833e-04  9.99983333e-03\n",
      "  9.98334166e-02  8.41470985e-01]\n"
     ]
    }
   ],
   "source": [
    "def f(x):\n",
    "    return x ** 2\n",
    "\n",
    "a = 2\n",
    "\n",
    "def get_limit(f, a):\n",
    "    \n",
    "    #delta = [1, 0.1, 0.01, 0.001,...] # exponential interval\n",
    "    #-np.arange(0, 11) # broadcasting of an operation - minus to all elements\n",
    "\n",
    "    epsilon = np.array([ 10.0 ** p for p in np.arange(0, -11, -1)]) # 10.0 - not like integer!\n",
    "\n",
    "    #a - epsilon\n",
    "    #(a + epsilon)[::-1] # от началото през края през -1 => обръща масива\n",
    "\n",
    "    x = np.append(a-epsilon, (a+epsilon)[::-1])\n",
    "    y = f(x)   \n",
    "    \n",
    "    list(zip(x, y))\n",
    "    return y\n",
    "\n",
    "#print(get_limit(lambda x: x ** 2, 3))\n",
    "#print(get_limit(lambda x: x ** 2 + 3 * x, 2))\n",
    "print(get_limit(lambda x: np.sin(x), 0))"
   ]
  },
  {
   "cell_type": "code",
   "execution_count": 4,
   "metadata": {},
   "outputs": [],
   "source": [
    "def derivative(f, a, h = 1e-7):\n",
    "    return (f(a+h) - f(a)) / h"
   ]
  },
  {
   "cell_type": "code",
   "execution_count": 5,
   "metadata": {},
   "outputs": [],
   "source": [
    "def quad_polynomial(x):\n",
    "    return 3 * x ** 2 + 5 * x - 8\n",
    "# df/dx = 6x + 5"
   ]
  },
  {
   "cell_type": "code",
   "execution_count": 6,
   "metadata": {},
   "outputs": [
    {
     "data": {
      "image/png": "[encoded data removed]",
      "text/plain": [
       "<Figure size 432x288 with 1 Axes>"
      ]
     },
     "metadata": {
      "needs_background": "light"
     },
     "output_type": "display_data"
    }
   ],
   "source": [
    "x = np.linspace(-10, 10, 5000)\n",
    "y = quad_polynomial(x)\n",
    "\n",
    "plt.plot(x, y)\n",
    "plt.show()"
   ]
  },
  {
   "cell_type": "code",
   "execution_count": 7,
   "metadata": {},
   "outputs": [
    {
     "data": {
      "text/plain": [
       "35.000000337959136"
      ]
     },
     "execution_count": 7,
     "metadata": {},
     "output_type": "execute_result"
    }
   ],
   "source": [
    "derivative(quad_polynomial, a = 5)"
   ]
  },
  {
   "cell_type": "code",
   "execution_count": 8,
   "metadata": {},
   "outputs": [
    {
     "data": {
      "text/plain": [
       "38.0"
      ]
     },
     "execution_count": 8,
     "metadata": {},
     "output_type": "execute_result"
    }
   ],
   "source": [
    "derivative(quad_polynomial, a = 5, h=1e-12) \n",
    "derivative(quad_polynomial, a = 5, h=1e-20) \n",
    "derivative(quad_polynomial, a = 5, h=1) \n",
    "# it should not be too small because of the rounding in python \n",
    "# we can count on the result to some point, not to full extent..."
   ]
  }
 ],
 "metadata": {
  "kernelspec": {
   "display_name": "Python 3",
   "language": "python",
   "name": "python3"
  },
  "language_info": {
   "codemirror_mode": {
    "name": "ipython",
    "version": 3
   },
   "file_extension": ".py",
   "mimetype": "text/x-python",
   "name": "python",
   "nbconvert_exporter": "python",
   "pygments_lexer": "ipython3",
   "version": "3.7.3"
  }
 },
 "nbformat": 4,
 "nbformat_minor": 2
}
